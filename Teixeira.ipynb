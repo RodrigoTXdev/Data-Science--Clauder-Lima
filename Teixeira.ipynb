{
  "nbformat": 4,
  "nbformat_minor": 0,
  "metadata": {
    "colab": {
      "name": "Teixeira.ipynb",
      "provenance": [],
      "mount_file_id": "1Ln3Ped9QGNttcAmvZVM4x_vo9zKYw5av",
      "authorship_tag": "ABX9TyNOHbBvNHxOcuohWWPe+Yp/",
      "include_colab_link": true
    },
    "kernelspec": {
      "name": "python3",
      "display_name": "Python 3"
    },
    "language_info": {
      "name": "python"
    }
  },
  "cells": [
    {
      "cell_type": "markdown",
      "metadata": {
        "id": "view-in-github",
        "colab_type": "text"
      },
      "source": [
        "<a href=\"https://colab.research.google.com/github/clauderlima/data-science/blob/main/Teixeira.ipynb\" target=\"_parent\"><img src=\"https://colab.research.google.com/assets/colab-badge.svg\" alt=\"Open In Colab\"/></a>"
      ]
    },
    {
      "cell_type": "code",
      "metadata": {
        "id": "RtBkgjnAALP3"
      },
      "source": [
        "import pandas as pd\n",
        "import numpy as np\n",
        "import seaborn as sns\n",
        "import matplotlib.pyplot as plt\n",
        "import matplotlib.ticker as tick\n",
        "import plotly.express as px"
      ],
      "execution_count": 1,
      "outputs": []
    },
    {
      "cell_type": "code",
      "metadata": {
        "id": "5xS2cSuPAUDu"
      },
      "source": [
        "dados1 = pd.read_csv('/content/drive/MyDrive/Colab Notebooks/dados/viaturas/abastecimento-pmdf-01-2021.csv')\n",
        "dados2 = pd.read_csv('/content/drive/MyDrive/Colab Notebooks/dados/viaturas/abastecimento-pmdf-02-2021.csv')\n",
        "dados3 = pd.read_csv('/content/drive/MyDrive/Colab Notebooks/dados/viaturas/abastecimento-pmdf-03-2021.csv')\n",
        "dados4 = pd.read_csv('/content/drive/MyDrive/Colab Notebooks/dados/viaturas/abastecimento-pmdf-04-2021.csv')\n",
        "dados5 = pd.read_csv('/content/drive/MyDrive/Colab Notebooks/dados/viaturas/abastecimento-pmdf-05-2021.csv')\n",
        "dados6 = pd.read_csv('/content/drive/MyDrive/Colab Notebooks/dados/viaturas/abastecimento-pmdf-06-2021.csv')\n",
        "dados7 = pd.read_csv('/content/drive/MyDrive/Colab Notebooks/dados/viaturas/abastecimento-pmdf-07-2021.csv')\n",
        "dados8 = pd.read_csv('/content/drive/MyDrive/Colab Notebooks/dados/viaturas/abastecimento-pmdf-08-2021.csv')\n",
        "dados9 = pd.read_csv('/content/drive/MyDrive/Colab Notebooks/dados/viaturas/abastecimento-pmdf-09-2021.csv')\n"
      ],
      "execution_count": 2,
      "outputs": []
    },
    {
      "cell_type": "code",
      "metadata": {
        "id": "YThIVwDEAlBF"
      },
      "source": [
        "dados = [dados1, dados2, dados3, dados4, dados5, dados6, dados7, dados8, dados9]"
      ],
      "execution_count": 3,
      "outputs": []
    },
    {
      "cell_type": "code",
      "metadata": {
        "id": "Iw8-414VBJy_"
      },
      "source": [
        "abastecimento_raw = pd.concat(dados)"
      ],
      "execution_count": 4,
      "outputs": []
    },
    {
      "cell_type": "code",
      "metadata": {
        "id": "WtB7fL1GBTIE"
      },
      "source": [
        "abastecimento_raw.index = np.arange(len(abastecimento_raw))"
      ],
      "execution_count": 5,
      "outputs": []
    },
    {
      "cell_type": "code",
      "metadata": {
        "colab": {
          "base_uri": "https://localhost:8080/",
          "height": 205
        },
        "id": "hJO0SyJTBZHg",
        "outputId": "b1fe2c35-8688-4c05-c347-157c63f4ed3b"
      },
      "source": [
        "abastecimento_raw.head(1)"
      ],
      "execution_count": 6,
      "outputs": [
        {
          "output_type": "execute_result",
          "data": {
            "text/html": [
              "<div>\n",
              "<style scoped>\n",
              "    .dataframe tbody tr th:only-of-type {\n",
              "        vertical-align: middle;\n",
              "    }\n",
              "\n",
              "    .dataframe tbody tr th {\n",
              "        vertical-align: top;\n",
              "    }\n",
              "\n",
              "    .dataframe thead th {\n",
              "        text-align: right;\n",
              "    }\n",
              "</style>\n",
              "<table border=\"1\" class=\"dataframe\">\n",
              "  <thead>\n",
              "    <tr style=\"text-align: right;\">\n",
              "      <th></th>\n",
              "      <th>bairro</th>\n",
              "      <th>centroResultadoVeiculo</th>\n",
              "      <th>cidade</th>\n",
              "      <th>cnpj</th>\n",
              "      <th>consumo</th>\n",
              "      <th>cpfMotorista</th>\n",
              "      <th>data</th>\n",
              "      <th>distancia</th>\n",
              "      <th>endereco</th>\n",
              "      <th>estado</th>\n",
              "      <th>filialVeiculo</th>\n",
              "      <th>hodometro</th>\n",
              "      <th>id</th>\n",
              "      <th>limiteCredito</th>\n",
              "      <th>modelo</th>\n",
              "      <th>motorista</th>\n",
              "      <th>nomeFantasia</th>\n",
              "      <th>numeroCartao</th>\n",
              "      <th>numeroFrota</th>\n",
              "      <th>placa</th>\n",
              "      <th>produto</th>\n",
              "      <th>produtoId</th>\n",
              "      <th>quantidade</th>\n",
              "      <th>reaisPorKm</th>\n",
              "      <th>responsavel</th>\n",
              "      <th>saldoAtual</th>\n",
              "      <th>telefone</th>\n",
              "      <th>tipoFrota</th>\n",
              "      <th>tipoServico</th>\n",
              "      <th>unidade</th>\n",
              "      <th>valorTotal</th>\n",
              "      <th>valorUnitario</th>\n",
              "    </tr>\n",
              "  </thead>\n",
              "  <tbody>\n",
              "    <tr>\n",
              "      <th>0</th>\n",
              "      <td>BRASILIA</td>\n",
              "      <td>BPMA</td>\n",
              "      <td>BRASÍLIA</td>\n",
              "      <td>37063328001309</td>\n",
              "      <td>0.03</td>\n",
              "      <td>916914194</td>\n",
              "      <td>01/01/2021 16:04:12</td>\n",
              "      <td>3</td>\n",
              "      <td>RUA SETOR SCE/SUL TRECHO 02 CONJUNTO 03 S/N PA...</td>\n",
              "      <td>DF</td>\n",
              "      <td>PMDF</td>\n",
              "      <td>1622</td>\n",
              "      <td>6841</td>\n",
              "      <td>0.0</td>\n",
              "      <td>BOTE</td>\n",
              "      <td>RODOLFO MEDEIROS DE PAULO PINHEIRO</td>\n",
              "      <td>REDE AUTO SHOPPING</td>\n",
              "      <td>60645800074179900</td>\n",
              "      <td>77109</td>\n",
              "      <td>BARCO109</td>\n",
              "      <td>GASOLINA COMUM</td>\n",
              "      <td>6</td>\n",
              "      <td>103.33</td>\n",
              "      <td>158.1</td>\n",
              "      <td>JEAN ARAUJO SANTANA DO VALE</td>\n",
              "      <td>0.0</td>\n",
              "      <td>6132483942</td>\n",
              "      <td>OSTENSIVO</td>\n",
              "      <td>COMBUSTIVEIS</td>\n",
              "      <td>Km/L</td>\n",
              "      <td>474.31</td>\n",
              "      <td>4.59</td>\n",
              "    </tr>\n",
              "  </tbody>\n",
              "</table>\n",
              "</div>"
            ],
            "text/plain": [
              "     bairro centroResultadoVeiculo    cidade  ...  unidade  valorTotal  valorUnitario\n",
              "0  BRASILIA                   BPMA  BRASÍLIA  ...     Km/L      474.31           4.59\n",
              "\n",
              "[1 rows x 32 columns]"
            ]
          },
          "metadata": {},
          "execution_count": 6
        }
      ]
    },
    {
      "cell_type": "code",
      "metadata": {
        "id": "YX-WsQb4BaB7"
      },
      "source": [
        "# Seleciona colunas relevantes\n",
        "abastecimento = abastecimento_raw[['centroResultadoVeiculo', 'data', 'distancia',\n",
        "        'hodometro', 'modelo', 'numeroFrota', 'placa' , 'quantidade', 'tipoFrota']]"
      ],
      "execution_count": 7,
      "outputs": []
    },
    {
      "cell_type": "code",
      "metadata": {
        "colab": {
          "base_uri": "https://localhost:8080/"
        },
        "id": "f1CEvh7UBk7Z",
        "outputId": "da6cd61c-c2fb-4e05-abe3-d7a6b12923ca"
      },
      "source": [
        "abastecimento.columns"
      ],
      "execution_count": 8,
      "outputs": [
        {
          "output_type": "execute_result",
          "data": {
            "text/plain": [
              "Index(['centroResultadoVeiculo', 'data', 'distancia', 'hodometro', 'modelo',\n",
              "       'numeroFrota', 'placa', 'quantidade', 'tipoFrota'],\n",
              "      dtype='object')"
            ]
          },
          "metadata": {},
          "execution_count": 8
        }
      ]
    },
    {
      "cell_type": "code",
      "metadata": {
        "colab": {
          "base_uri": "https://localhost:8080/",
          "height": 81
        },
        "id": "QKXU73LhBmI9",
        "outputId": "c8acf126-e5dd-4b9d-e16c-22d24ccdb085"
      },
      "source": [
        "abastecimento.head(1)"
      ],
      "execution_count": 9,
      "outputs": [
        {
          "output_type": "execute_result",
          "data": {
            "text/html": [
              "<div>\n",
              "<style scoped>\n",
              "    .dataframe tbody tr th:only-of-type {\n",
              "        vertical-align: middle;\n",
              "    }\n",
              "\n",
              "    .dataframe tbody tr th {\n",
              "        vertical-align: top;\n",
              "    }\n",
              "\n",
              "    .dataframe thead th {\n",
              "        text-align: right;\n",
              "    }\n",
              "</style>\n",
              "<table border=\"1\" class=\"dataframe\">\n",
              "  <thead>\n",
              "    <tr style=\"text-align: right;\">\n",
              "      <th></th>\n",
              "      <th>centroResultadoVeiculo</th>\n",
              "      <th>data</th>\n",
              "      <th>distancia</th>\n",
              "      <th>hodometro</th>\n",
              "      <th>modelo</th>\n",
              "      <th>numeroFrota</th>\n",
              "      <th>placa</th>\n",
              "      <th>quantidade</th>\n",
              "      <th>tipoFrota</th>\n",
              "    </tr>\n",
              "  </thead>\n",
              "  <tbody>\n",
              "    <tr>\n",
              "      <th>0</th>\n",
              "      <td>BPMA</td>\n",
              "      <td>01/01/2021 16:04:12</td>\n",
              "      <td>3</td>\n",
              "      <td>1622</td>\n",
              "      <td>BOTE</td>\n",
              "      <td>77109</td>\n",
              "      <td>BARCO109</td>\n",
              "      <td>103.33</td>\n",
              "      <td>OSTENSIVO</td>\n",
              "    </tr>\n",
              "  </tbody>\n",
              "</table>\n",
              "</div>"
            ],
            "text/plain": [
              "  centroResultadoVeiculo                 data  ...  quantidade  tipoFrota\n",
              "0                   BPMA  01/01/2021 16:04:12  ...      103.33  OSTENSIVO\n",
              "\n",
              "[1 rows x 9 columns]"
            ]
          },
          "metadata": {},
          "execution_count": 9
        }
      ]
    },
    {
      "cell_type": "code",
      "metadata": {
        "id": "NpQp8_biCGwv"
      },
      "source": [
        "# Dicionário para padronizar os nomes dos modelos de viaturas\n",
        "dic_modelo = { 'BOTE' : 'EMBARCACAO', 'DOBLO' : 'FURGAO', 'GURGEL' : 'DIVERSOS', 'VOLVO' : 'DIVERSOS', 'RETROESCAVADEIRA' : 'TRATOR', 'PAJERO DAKAR' : 'PAJERO', \n",
        "    'FOCUS 2L FC FLEX' : 'FOCUS',     'VOLARE W9 ON' : 'ONIBUS', 'PAJERO DAKAR D' : 'PAJERO', 'JET SKI' : 'JET-SKI', 'TRITON' : 'CAMIONETA', 'LOGAN EXP 16' : 'LOGAN', \n",
        "    'CB 600 F' : 'MOTO',     'COROLLA XLI 1.8' : 'COROLLA', 'NEW HOLLAND' : 'TRATOR', 'PALIO WEEKEND TREKKING' : 'PALIO', 'COROLLA GLI FLEX' : 'COROLLA', \n",
        "    'SANDERO EXP 16' : 'SANDERO', 'M.BENZ413CDI SPRINTERF' : 'FURGAO', 'PRISMA MAXX' : 'PRISMA', 'ATEGO 1315' : 'CAMINHAO', 'LINEA ESSENCE 1.8' : 'LINEA', 'RD406' : 'TRATOR', \n",
        "    'HILUX' : 'CAMIONETA', 'TRANSIT 350L' : 'FURGAO', 'MASCA GRANVIA E O' : 'ONIBUS', 'L200 TRITON 3.2 D' : 'CAMIONETA', 'MASCA GRANMIDI' : 'ONIBUS', 'PALIO ESSENCE 1.6' : 'PALIO', \n",
        "    'TRAILBLAZER LTZ' : 'BLAZER', 'TRAILBLAZER' : 'BLAZER', 'EUROBUS ESPECIALMC.ON' : 'ONIBUS', 'LANDER XTZ 250' : 'MOTO', 'TECTOR 240E30S 6X2' : 'CAMINHAO', \n",
        "    'COROLLA XEI 2.0' : 'COROLLA', 'HILUX CD SR' : 'HILUX', 'REVESCAP' : 'ONIBUS', 'HORNET' : 'MOTO', 'ASX 2.0' : 'ASX', 'TECTOR' : 'CAMINHAO', 'S10' : 'CAMIONETA',\n",
        "    'XRE 300' : 'MOTO', 'MASCA GRANMIDE E D O' : 'ONIBUS', 'MASCA GRANMIDI O' : 'ONIBUS', 'JOURNEY.' : 'JOURNEY', 'TRIUMPH TIGER 800 XR' : 'MOTO', 'TIGER 800 XCx' : 'MOTO', \n",
        "    'SPRINTER AMBULANCIA' : 'FURGAO', 'EMPILHADEIRA' : 'TRATOR', 'FIAT DUCATO' : 'FURGAO', 'DUCATO' : 'FURGAO', 'XT 660 R' : 'MOTO', 'DAILY 70C16CS' : 'CAMINHAO', \n",
        "    'SIENA HLX' : 'DIVERSOS', 'DOBLO HLX 1.8' : 'FURGAO', '19320' : 'CAMINHAO', 'MARCOPOLO PARADISO' : 'ONIBUS', 'COMIL' : 'ONIBUS', 'VOLARE W8 ON' : 'ONIBUS', \n",
        "    'STRALIS 460S36T' : 'CAMINHAO', 'TRITON SPORT GLS' : 'CAMIONETA', 'OUTROS MOD VEIC' : 'DIVERSOS', '310 D SPRINTER' : 'FURGAO', 'CARGO 816 S' : 'CAMINHAO',\n",
        "    'GURGEL X-12' : 'DIVERSOS', 'MASTER FUR L1H1' : 'FURGAO', 'DOBLO CARGO FLEX' : 'FURGAO', 'VOLVO 190' : 'DIVERSOS', 'BARCO' : 'EMBARCACAO', 'BOXER M330M HDI' : 'FURGAO', \n",
        "    'NC 700X' : 'MOTO', 'TRIUMPH' : 'MOTO', 'TRIUMPH TIGER 800 XCX' : 'MOTO', 'MASTER MAR TPRE1' : 'FURGAO', 'NEOBUS' : 'ONIBUS', 'FRONTIER XE 4x4 2.8' : 'CAMIONETA', \n",
        "    'FRONTIER' : 'CAMIONETA', 'BLAZER ADVANTAGE' : 'BLAZER', 'YANMAR 12' : 'TRATOR', 'T4 TDI 3.0' : 'DIVERSOS', 'H.DAVIDSON FLHP' : 'MOTO', 'EQUIPAMENTOS' : 'DIVERSOS', \n",
        "    'MASTER' : 'FURGAO', 'VOL REVESC.MO' : 'ONIBUS', 'LOGAN EXP. 1.6' : 'LOGAN', 'FORD KA 1.5' : 'KA', 'GERADOR DIESEL' : 'DIVERSOS', '15190':'CAMINHAO', 'RANGER' : 'CAMIONETA',\n",
        "    'VERANEIO' : 'DIVERSOS', }"
      ],
      "execution_count": 10,
      "outputs": []
    },
    {
      "cell_type": "code",
      "metadata": {
        "id": "xJARBcPbCNiw"
      },
      "source": [
        "# Dicionário para padronizar o nome das unidades\n",
        "dic_unidade = { 'GERADOR (DITEL)' : 'DITEL', 'LEILAO' : 'DPTS', 'CMT' : 'GCG', 'SAV' : 'DPTS', 'DPMT' : 'DPTS', 'CURSOS' : 'CTESP' }"
      ],
      "execution_count": 11,
      "outputs": []
    },
    {
      "cell_type": "code",
      "metadata": {
        "colab": {
          "base_uri": "https://localhost:8080/"
        },
        "id": "pVOLsXfLCR3h",
        "outputId": "af0220d5-1b78-44d3-a294-641b1b9ed9fa"
      },
      "source": [
        "# Cria a coluna mês\n",
        "abastecimento['mes'] = abastecimento.loc[:,'data'].str.slice(3,5)"
      ],
      "execution_count": 12,
      "outputs": [
        {
          "output_type": "stream",
          "name": "stderr",
          "text": [
            "/usr/local/lib/python3.7/dist-packages/ipykernel_launcher.py:2: SettingWithCopyWarning:\n",
            "\n",
            "\n",
            "A value is trying to be set on a copy of a slice from a DataFrame.\n",
            "Try using .loc[row_indexer,col_indexer] = value instead\n",
            "\n",
            "See the caveats in the documentation: https://pandas.pydata.org/pandas-docs/stable/user_guide/indexing.html#returning-a-view-versus-a-copy\n",
            "\n"
          ]
        }
      ]
    },
    {
      "cell_type": "code",
      "metadata": {
        "colab": {
          "base_uri": "https://localhost:8080/"
        },
        "id": "cSOK8qx-CWTh",
        "outputId": "3176fb18-69c8-4a74-f13c-543818211a72"
      },
      "source": [
        "# Aplica os dicionários no DataFrame\n",
        "abastecimento.loc[:,('modelo')].replace(dic_modelo, inplace=True)\n",
        "abastecimento.loc[:,('centroResultadoVeiculo')].replace(dic_unidade, inplace=True)"
      ],
      "execution_count": 13,
      "outputs": [
        {
          "output_type": "stream",
          "name": "stderr",
          "text": [
            "/usr/local/lib/python3.7/dist-packages/pandas/core/series.py:4582: SettingWithCopyWarning:\n",
            "\n",
            "\n",
            "A value is trying to be set on a copy of a slice from a DataFrame\n",
            "\n",
            "See the caveats in the documentation: https://pandas.pydata.org/pandas-docs/stable/user_guide/indexing.html#returning-a-view-versus-a-copy\n",
            "\n"
          ]
        }
      ]
    },
    {
      "cell_type": "code",
      "metadata": {
        "colab": {
          "base_uri": "https://localhost:8080/"
        },
        "id": "QjIQ1Sl5DJY_",
        "outputId": "666e3531-580b-45f5-c0bf-b90f919ecff5"
      },
      "source": [
        "abastecimento.modelo.unique()"
      ],
      "execution_count": 15,
      "outputs": [
        {
          "output_type": "execute_result",
          "data": {
            "text/plain": [
              "array(['EMBARCACAO', 'GERADOR', 'TRATOR', 'PAJERO', 'FURGAO', 'FOCUS',\n",
              "       'ONIBUS', 'JET-SKI', 'LOGAN', 'MOTO', 'COROLLA', 'PALIO',\n",
              "       'CAMIONETA', 'SANDERO', 'PRISMA', 'MARRUA', 'CAMINHAO', 'LINEA',\n",
              "       'KWID', 'BLAZER', 'ETIOS', 'HILUX', 'ASX', 'JOURNEY', 'RENEGADE',\n",
              "       'DIVERSOS', 'KA'], dtype=object)"
            ]
          },
          "metadata": {},
          "execution_count": 15
        }
      ]
    },
    {
      "cell_type": "code",
      "metadata": {
        "id": "4dv0CFCiCah-"
      },
      "source": [
        "selecao_modelo = ['PAJERO', 'COROLLA', 'LINEA', 'BLAZER', 'HILUX', 'ASX', 'JOURNEY']"
      ],
      "execution_count": 28,
      "outputs": []
    },
    {
      "cell_type": "code",
      "metadata": {
        "id": "KFEjliQkD2fE"
      },
      "source": [
        "viaturas_ostensivas = abastecimento[abastecimento.modelo.isin(selecao_modelo)]"
      ],
      "execution_count": 29,
      "outputs": []
    },
    {
      "cell_type": "code",
      "metadata": {
        "colab": {
          "base_uri": "https://localhost:8080/",
          "height": 112
        },
        "id": "dN4yvcZWD603",
        "outputId": "5e2fc89b-ad7f-4829-848d-bfbe0eef4586"
      },
      "source": [
        "viaturas_ostensivas.head(2)"
      ],
      "execution_count": 30,
      "outputs": [
        {
          "output_type": "execute_result",
          "data": {
            "text/html": [
              "<div>\n",
              "<style scoped>\n",
              "    .dataframe tbody tr th:only-of-type {\n",
              "        vertical-align: middle;\n",
              "    }\n",
              "\n",
              "    .dataframe tbody tr th {\n",
              "        vertical-align: top;\n",
              "    }\n",
              "\n",
              "    .dataframe thead th {\n",
              "        text-align: right;\n",
              "    }\n",
              "</style>\n",
              "<table border=\"1\" class=\"dataframe\">\n",
              "  <thead>\n",
              "    <tr style=\"text-align: right;\">\n",
              "      <th></th>\n",
              "      <th>centroResultadoVeiculo</th>\n",
              "      <th>data</th>\n",
              "      <th>distancia</th>\n",
              "      <th>hodometro</th>\n",
              "      <th>modelo</th>\n",
              "      <th>numeroFrota</th>\n",
              "      <th>placa</th>\n",
              "      <th>quantidade</th>\n",
              "      <th>tipoFrota</th>\n",
              "      <th>mes</th>\n",
              "    </tr>\n",
              "  </thead>\n",
              "  <tbody>\n",
              "    <tr>\n",
              "      <th>24</th>\n",
              "      <td>8 BPM</td>\n",
              "      <td>01/01/2021 00:27:36</td>\n",
              "      <td>523</td>\n",
              "      <td>187984</td>\n",
              "      <td>PAJERO</td>\n",
              "      <td>552611</td>\n",
              "      <td>JDX-0027</td>\n",
              "      <td>44.48</td>\n",
              "      <td>OSTENSIVO</td>\n",
              "      <td>01</td>\n",
              "    </tr>\n",
              "    <tr>\n",
              "      <th>25</th>\n",
              "      <td>8 BPM</td>\n",
              "      <td>01/01/2021 18:23:34</td>\n",
              "      <td>162</td>\n",
              "      <td>188146</td>\n",
              "      <td>PAJERO</td>\n",
              "      <td>552611</td>\n",
              "      <td>JDX-0027</td>\n",
              "      <td>30.16</td>\n",
              "      <td>OSTENSIVO</td>\n",
              "      <td>01</td>\n",
              "    </tr>\n",
              "  </tbody>\n",
              "</table>\n",
              "</div>"
            ],
            "text/plain": [
              "   centroResultadoVeiculo                 data  ...  tipoFrota  mes\n",
              "24                  8 BPM  01/01/2021 00:27:36  ...  OSTENSIVO   01\n",
              "25                  8 BPM  01/01/2021 18:23:34  ...  OSTENSIVO   01\n",
              "\n",
              "[2 rows x 10 columns]"
            ]
          },
          "metadata": {},
          "execution_count": 30
        }
      ]
    },
    {
      "cell_type": "code",
      "metadata": {
        "colab": {
          "base_uri": "https://localhost:8080/"
        },
        "id": "BhcTXsaCEg-u",
        "outputId": "7b6e58f1-e203-4c41-fbe1-17d988754e32"
      },
      "source": [
        "viaturas_ostensivas.tipoFrota.unique()"
      ],
      "execution_count": 31,
      "outputs": [
        {
          "output_type": "execute_result",
          "data": {
            "text/plain": [
              "array(['OSTENSIVO', 'ADMINISTRATIVO', 'ENSINO E INSTRUCAO', 'VELADO'],\n",
              "      dtype=object)"
            ]
          },
          "metadata": {},
          "execution_count": 31
        }
      ]
    },
    {
      "cell_type": "code",
      "metadata": {
        "id": "MaCipICuEWWx"
      },
      "source": [
        "viaturas_ostensivas.query('tipoFrota == \"ADMINISTRATIVO\"')"
      ],
      "execution_count": null,
      "outputs": []
    },
    {
      "cell_type": "code",
      "metadata": {
        "colab": {
          "base_uri": "https://localhost:8080/"
        },
        "id": "3raNA_6IEfZp",
        "outputId": "5153c4b4-8bc3-4d85-f0ef-ab00f6c5b7e5"
      },
      "source": [
        "viaturas_ostensivas.centroResultadoVeiculo.unique()"
      ],
      "execution_count": 33,
      "outputs": [
        {
          "output_type": "execute_result",
          "data": {
            "text/plain": [
              "array(['8 BPM', 'RPMON', '19 BPM', '12 BPM', '15 BPM', 'APMB', '10 BPM',\n",
              "       '1 CPR', 'DPTS', '1 BPR', '14 BPM', '6 CPR', 'CME', '9 BPM',\n",
              "       'BPESC', '11 BPM', '24 BPM', '16 BPM', '20 BPM', '2 BPR', '2 BPM',\n",
              "       '28 BPM', '7 BPM', '4 BPM', '26 BPM', '25 BPM', '27 BPM', '6 BPM',\n",
              "       'BPTRAN', 'ROTAM', 'BOPE', 'GCG', 'CI', 'CPP', '2 CPR', 'BPCHOQUE',\n",
              "       '21 BPM', 'CMBEL', '13 BPM', '17 BPM', 'CTESP', 'CAEAP', 'DEEC',\n",
              "       'BPRV', '3 CPR', '4 CPR', '5 BPM', '3 BPM', 'BAVOP', 'BPMA', 'DCC',\n",
              "       'DOP', '5 CPR', 'COPOM', 'BPCAES', '1 BPM', 'CMAN', 'DLF', 'CCS',\n",
              "       'EM', 'DSAP', 'DITEL'], dtype=object)"
            ]
          },
          "metadata": {},
          "execution_count": 33
        }
      ]
    },
    {
      "cell_type": "code",
      "metadata": {
        "id": "EToh6lhtFIcK"
      },
      "source": [
        "selecao_unidade = ['8 BPM', '15 BPM', '10 BPM', '14 BPM', '9 BPM', '11 BPM', '24 BPM', '16 BPM', '20 BPM', '2 BPM',\n",
        "       '28 BPM', '7 BPM', '4 BPM', '26 BPM', '25 BPM', '27 BPM', '6 BPM', '21 BPM', '13 BPM', '17 BPM', '5 BPM', '3 BPM',\n",
        "       '1 BPM']"
      ],
      "execution_count": 34,
      "outputs": []
    },
    {
      "cell_type": "code",
      "metadata": {
        "id": "2lX6uycQFvhg"
      },
      "source": [
        "viaturas_unidades_area = viaturas_ostensivas[viaturas_ostensivas.centroResultadoVeiculo.isin(selecao_unidade)]"
      ],
      "execution_count": 37,
      "outputs": []
    },
    {
      "cell_type": "code",
      "metadata": {
        "colab": {
          "base_uri": "https://localhost:8080/"
        },
        "id": "RNY9u8GrF4hx",
        "outputId": "2ea9e2dc-7667-4273-ecfe-c7a854811546"
      },
      "source": [
        "# Todos\n",
        "abastecimento.shape"
      ],
      "execution_count": 38,
      "outputs": [
        {
          "output_type": "execute_result",
          "data": {
            "text/plain": [
              "(71474, 10)"
            ]
          },
          "metadata": {},
          "execution_count": 38
        }
      ]
    },
    {
      "cell_type": "code",
      "metadata": {
        "colab": {
          "base_uri": "https://localhost:8080/"
        },
        "id": "0rj33_X4GS8x",
        "outputId": "33d94408-7d36-4314-88da-bb8e2e8bebba"
      },
      "source": [
        "# Somente viaturas ostensivas\n",
        "viaturas_ostensivas.shape"
      ],
      "execution_count": 39,
      "outputs": [
        {
          "output_type": "execute_result",
          "data": {
            "text/plain": [
              "(48711, 10)"
            ]
          },
          "metadata": {},
          "execution_count": 39
        }
      ]
    },
    {
      "cell_type": "code",
      "metadata": {
        "colab": {
          "base_uri": "https://localhost:8080/"
        },
        "id": "-DteZQu3GVpR",
        "outputId": "821680c3-c042-4ce3-ea53-0e11da6e0c52"
      },
      "source": [
        "# Somente unidades de área\n",
        "viaturas_unidades_area.shape"
      ],
      "execution_count": 40,
      "outputs": [
        {
          "output_type": "execute_result",
          "data": {
            "text/plain": [
              "(33953, 10)"
            ]
          },
          "metadata": {},
          "execution_count": 40
        }
      ]
    },
    {
      "cell_type": "code",
      "metadata": {
        "id": "r0oKe17vGXa1"
      },
      "source": [
        "viaturas = viaturas_unidades_area"
      ],
      "execution_count": 41,
      "outputs": []
    },
    {
      "cell_type": "code",
      "metadata": {
        "colab": {
          "base_uri": "https://localhost:8080/",
          "height": 81
        },
        "id": "-MVnqVwdHQdA",
        "outputId": "80522b21-24e8-4c3c-9f9e-58eb0dea63fd"
      },
      "source": [
        "viaturas.head(1)"
      ],
      "execution_count": 43,
      "outputs": [
        {
          "output_type": "execute_result",
          "data": {
            "text/html": [
              "<div>\n",
              "<style scoped>\n",
              "    .dataframe tbody tr th:only-of-type {\n",
              "        vertical-align: middle;\n",
              "    }\n",
              "\n",
              "    .dataframe tbody tr th {\n",
              "        vertical-align: top;\n",
              "    }\n",
              "\n",
              "    .dataframe thead th {\n",
              "        text-align: right;\n",
              "    }\n",
              "</style>\n",
              "<table border=\"1\" class=\"dataframe\">\n",
              "  <thead>\n",
              "    <tr style=\"text-align: right;\">\n",
              "      <th></th>\n",
              "      <th>centroResultadoVeiculo</th>\n",
              "      <th>data</th>\n",
              "      <th>distancia</th>\n",
              "      <th>hodometro</th>\n",
              "      <th>modelo</th>\n",
              "      <th>numeroFrota</th>\n",
              "      <th>placa</th>\n",
              "      <th>quantidade</th>\n",
              "      <th>tipoFrota</th>\n",
              "      <th>mes</th>\n",
              "    </tr>\n",
              "  </thead>\n",
              "  <tbody>\n",
              "    <tr>\n",
              "      <th>24</th>\n",
              "      <td>8 BPM</td>\n",
              "      <td>01/01/2021 00:27:36</td>\n",
              "      <td>523</td>\n",
              "      <td>187984</td>\n",
              "      <td>PAJERO</td>\n",
              "      <td>552611</td>\n",
              "      <td>JDX-0027</td>\n",
              "      <td>44.48</td>\n",
              "      <td>OSTENSIVO</td>\n",
              "      <td>01</td>\n",
              "    </tr>\n",
              "  </tbody>\n",
              "</table>\n",
              "</div>"
            ],
            "text/plain": [
              "   centroResultadoVeiculo                 data  ...  tipoFrota  mes\n",
              "24                  8 BPM  01/01/2021 00:27:36  ...  OSTENSIVO   01\n",
              "\n",
              "[1 rows x 10 columns]"
            ]
          },
          "metadata": {},
          "execution_count": 43
        }
      ]
    },
    {
      "cell_type": "code",
      "metadata": {
        "id": "69gTTfxCHS8F"
      },
      "source": [
        "viaturas.columns = ['unidade', 'data', 'distancia', 'odometro', 'modelo', 'prefixo', 'placa', 'quantidade', 'tipo', 'mes']"
      ],
      "execution_count": 46,
      "outputs": []
    },
    {
      "cell_type": "code",
      "metadata": {
        "colab": {
          "base_uri": "https://localhost:8080/",
          "height": 423
        },
        "id": "lVpiXCzYHgHk",
        "outputId": "edce86ef-9bed-4780-fff8-1d341da65c8a"
      },
      "source": [
        "viaturas\n"
      ],
      "execution_count": 47,
      "outputs": [
        {
          "output_type": "execute_result",
          "data": {
            "text/html": [
              "<div>\n",
              "<style scoped>\n",
              "    .dataframe tbody tr th:only-of-type {\n",
              "        vertical-align: middle;\n",
              "    }\n",
              "\n",
              "    .dataframe tbody tr th {\n",
              "        vertical-align: top;\n",
              "    }\n",
              "\n",
              "    .dataframe thead th {\n",
              "        text-align: right;\n",
              "    }\n",
              "</style>\n",
              "<table border=\"1\" class=\"dataframe\">\n",
              "  <thead>\n",
              "    <tr style=\"text-align: right;\">\n",
              "      <th></th>\n",
              "      <th>unidade</th>\n",
              "      <th>data</th>\n",
              "      <th>distancia</th>\n",
              "      <th>odometro</th>\n",
              "      <th>modelo</th>\n",
              "      <th>prefixo</th>\n",
              "      <th>placa</th>\n",
              "      <th>quantidade</th>\n",
              "      <th>tipo</th>\n",
              "      <th>mes</th>\n",
              "    </tr>\n",
              "  </thead>\n",
              "  <tbody>\n",
              "    <tr>\n",
              "      <th>24</th>\n",
              "      <td>8 BPM</td>\n",
              "      <td>01/01/2021 00:27:36</td>\n",
              "      <td>523</td>\n",
              "      <td>187984</td>\n",
              "      <td>PAJERO</td>\n",
              "      <td>552611</td>\n",
              "      <td>JDX-0027</td>\n",
              "      <td>44.48</td>\n",
              "      <td>OSTENSIVO</td>\n",
              "      <td>01</td>\n",
              "    </tr>\n",
              "    <tr>\n",
              "      <th>25</th>\n",
              "      <td>8 BPM</td>\n",
              "      <td>01/01/2021 18:23:34</td>\n",
              "      <td>162</td>\n",
              "      <td>188146</td>\n",
              "      <td>PAJERO</td>\n",
              "      <td>552611</td>\n",
              "      <td>JDX-0027</td>\n",
              "      <td>30.16</td>\n",
              "      <td>OSTENSIVO</td>\n",
              "      <td>01</td>\n",
              "    </tr>\n",
              "    <tr>\n",
              "      <th>26</th>\n",
              "      <td>8 BPM</td>\n",
              "      <td>03/01/2021 09:49:58</td>\n",
              "      <td>410</td>\n",
              "      <td>188556</td>\n",
              "      <td>PAJERO</td>\n",
              "      <td>552611</td>\n",
              "      <td>JDX-0027</td>\n",
              "      <td>48.54</td>\n",
              "      <td>OSTENSIVO</td>\n",
              "      <td>01</td>\n",
              "    </tr>\n",
              "    <tr>\n",
              "      <th>27</th>\n",
              "      <td>8 BPM</td>\n",
              "      <td>05/01/2021 20:26:21</td>\n",
              "      <td>482</td>\n",
              "      <td>189038</td>\n",
              "      <td>PAJERO</td>\n",
              "      <td>552611</td>\n",
              "      <td>JDX-0027</td>\n",
              "      <td>53.99</td>\n",
              "      <td>OSTENSIVO</td>\n",
              "      <td>01</td>\n",
              "    </tr>\n",
              "    <tr>\n",
              "      <th>28</th>\n",
              "      <td>8 BPM</td>\n",
              "      <td>31/01/2021 09:33:25</td>\n",
              "      <td>346</td>\n",
              "      <td>189384</td>\n",
              "      <td>PAJERO</td>\n",
              "      <td>552611</td>\n",
              "      <td>JDX-0027</td>\n",
              "      <td>46.50</td>\n",
              "      <td>OSTENSIVO</td>\n",
              "      <td>01</td>\n",
              "    </tr>\n",
              "    <tr>\n",
              "      <th>...</th>\n",
              "      <td>...</td>\n",
              "      <td>...</td>\n",
              "      <td>...</td>\n",
              "      <td>...</td>\n",
              "      <td>...</td>\n",
              "      <td>...</td>\n",
              "      <td>...</td>\n",
              "      <td>...</td>\n",
              "      <td>...</td>\n",
              "      <td>...</td>\n",
              "    </tr>\n",
              "    <tr>\n",
              "      <th>70781</th>\n",
              "      <td>24 BPM</td>\n",
              "      <td>25/09/2021 21:40:09</td>\n",
              "      <td>213</td>\n",
              "      <td>39284</td>\n",
              "      <td>JOURNEY</td>\n",
              "      <td>554238</td>\n",
              "      <td>PBY-6836</td>\n",
              "      <td>44.46</td>\n",
              "      <td>OSTENSIVO</td>\n",
              "      <td>09</td>\n",
              "    </tr>\n",
              "    <tr>\n",
              "      <th>70782</th>\n",
              "      <td>24 BPM</td>\n",
              "      <td>26/09/2021 20:46:56</td>\n",
              "      <td>203</td>\n",
              "      <td>39487</td>\n",
              "      <td>JOURNEY</td>\n",
              "      <td>554238</td>\n",
              "      <td>PBY-6836</td>\n",
              "      <td>47.30</td>\n",
              "      <td>OSTENSIVO</td>\n",
              "      <td>09</td>\n",
              "    </tr>\n",
              "    <tr>\n",
              "      <th>70783</th>\n",
              "      <td>24 BPM</td>\n",
              "      <td>27/09/2021 21:54:39</td>\n",
              "      <td>229</td>\n",
              "      <td>39716</td>\n",
              "      <td>JOURNEY</td>\n",
              "      <td>554238</td>\n",
              "      <td>PBY-6836</td>\n",
              "      <td>51.63</td>\n",
              "      <td>OSTENSIVO</td>\n",
              "      <td>09</td>\n",
              "    </tr>\n",
              "    <tr>\n",
              "      <th>70784</th>\n",
              "      <td>24 BPM</td>\n",
              "      <td>29/09/2021 00:44:50</td>\n",
              "      <td>243</td>\n",
              "      <td>39959</td>\n",
              "      <td>JOURNEY</td>\n",
              "      <td>554238</td>\n",
              "      <td>PBY-6836</td>\n",
              "      <td>47.89</td>\n",
              "      <td>OSTENSIVO</td>\n",
              "      <td>09</td>\n",
              "    </tr>\n",
              "    <tr>\n",
              "      <th>70785</th>\n",
              "      <td>24 BPM</td>\n",
              "      <td>29/09/2021 22:50:49</td>\n",
              "      <td>203</td>\n",
              "      <td>40162</td>\n",
              "      <td>JOURNEY</td>\n",
              "      <td>554238</td>\n",
              "      <td>PBY-6836</td>\n",
              "      <td>40.37</td>\n",
              "      <td>OSTENSIVO</td>\n",
              "      <td>09</td>\n",
              "    </tr>\n",
              "  </tbody>\n",
              "</table>\n",
              "<p>33953 rows × 10 columns</p>\n",
              "</div>"
            ],
            "text/plain": [
              "      unidade                 data  distancia  ...  quantidade       tipo mes\n",
              "24      8 BPM  01/01/2021 00:27:36        523  ...       44.48  OSTENSIVO  01\n",
              "25      8 BPM  01/01/2021 18:23:34        162  ...       30.16  OSTENSIVO  01\n",
              "26      8 BPM  03/01/2021 09:49:58        410  ...       48.54  OSTENSIVO  01\n",
              "27      8 BPM  05/01/2021 20:26:21        482  ...       53.99  OSTENSIVO  01\n",
              "28      8 BPM  31/01/2021 09:33:25        346  ...       46.50  OSTENSIVO  01\n",
              "...       ...                  ...        ...  ...         ...        ...  ..\n",
              "70781  24 BPM  25/09/2021 21:40:09        213  ...       44.46  OSTENSIVO  09\n",
              "70782  24 BPM  26/09/2021 20:46:56        203  ...       47.30  OSTENSIVO  09\n",
              "70783  24 BPM  27/09/2021 21:54:39        229  ...       51.63  OSTENSIVO  09\n",
              "70784  24 BPM  29/09/2021 00:44:50        243  ...       47.89  OSTENSIVO  09\n",
              "70785  24 BPM  29/09/2021 22:50:49        203  ...       40.37  OSTENSIVO  09\n",
              "\n",
              "[33953 rows x 10 columns]"
            ]
          },
          "metadata": {},
          "execution_count": 47
        }
      ]
    },
    {
      "cell_type": "code",
      "metadata": {
        "id": "nZCngev2Hhie"
      },
      "source": [
        "grupo_viaturas_unidade = viaturas.groupby('unidade')"
      ],
      "execution_count": 49,
      "outputs": []
    },
    {
      "cell_type": "code",
      "metadata": {
        "id": "Xc16UANGHoON"
      },
      "source": [
        "dt = []\n",
        "for upm in unidades:\n",
        "  print(upm)\n",
        "  for x in [\"01\",\"02\",\"03\",\"04\",\"05\",\"06\",\"07\",\"08\",\"09\"]:\n",
        "    query = \"mes == '\" + x + \"'\"\n",
        "    qtd = len(grupo_viaturas_unidade.get_group(upm).query(query).placa.unique())\n",
        "    print(\"Mês {} viaturas abastecidas {}\".format(x, qtd))\n",
        "    dt.append([upm, x, qtd])"
      ],
      "execution_count": null,
      "outputs": []
    },
    {
      "cell_type": "code",
      "metadata": {
        "id": "AR67bZYEMDQY"
      },
      "source": [
        "grupo_viaturas_unidade.get_group('1 BPM').query(\"mes == '01'\")"
      ],
      "execution_count": null,
      "outputs": []
    },
    {
      "cell_type": "code",
      "metadata": {
        "id": "Av9A2FZxPQwo"
      },
      "source": [
        "vtr_unidade = pd.DataFrame(dt)"
      ],
      "execution_count": 130,
      "outputs": []
    },
    {
      "cell_type": "code",
      "metadata": {
        "colab": {
          "base_uri": "https://localhost:8080/",
          "height": 112
        },
        "id": "E7jy0nkwHy1x",
        "outputId": "8fa1cebe-8f19-4f3d-fb37-8429470cc741"
      },
      "source": [
        "vtr_unidade.head(2)"
      ],
      "execution_count": 131,
      "outputs": [
        {
          "output_type": "execute_result",
          "data": {
            "text/html": [
              "<div>\n",
              "<style scoped>\n",
              "    .dataframe tbody tr th:only-of-type {\n",
              "        vertical-align: middle;\n",
              "    }\n",
              "\n",
              "    .dataframe tbody tr th {\n",
              "        vertical-align: top;\n",
              "    }\n",
              "\n",
              "    .dataframe thead th {\n",
              "        text-align: right;\n",
              "    }\n",
              "</style>\n",
              "<table border=\"1\" class=\"dataframe\">\n",
              "  <thead>\n",
              "    <tr style=\"text-align: right;\">\n",
              "      <th></th>\n",
              "      <th>0</th>\n",
              "      <th>1</th>\n",
              "      <th>2</th>\n",
              "    </tr>\n",
              "  </thead>\n",
              "  <tbody>\n",
              "    <tr>\n",
              "      <th>0</th>\n",
              "      <td>8 BPM</td>\n",
              "      <td>01</td>\n",
              "      <td>22</td>\n",
              "    </tr>\n",
              "    <tr>\n",
              "      <th>1</th>\n",
              "      <td>8 BPM</td>\n",
              "      <td>02</td>\n",
              "      <td>23</td>\n",
              "    </tr>\n",
              "  </tbody>\n",
              "</table>\n",
              "</div>"
            ],
            "text/plain": [
              "       0   1   2\n",
              "0  8 BPM  01  22\n",
              "1  8 BPM  02  23"
            ]
          },
          "metadata": {},
          "execution_count": 131
        }
      ]
    },
    {
      "cell_type": "code",
      "metadata": {
        "id": "2zSXVKohIn3W"
      },
      "source": [
        "vtr_unidade.columns = ['unidade', 'mes', 'qtd_vtr']"
      ],
      "execution_count": 132,
      "outputs": []
    },
    {
      "cell_type": "code",
      "metadata": {
        "colab": {
          "base_uri": "https://localhost:8080/",
          "height": 423
        },
        "id": "Gnu2iAFwIqY6",
        "outputId": "aa199ed3-babb-4854-89ff-ff85c4702843"
      },
      "source": [
        "vtr_unidade"
      ],
      "execution_count": 133,
      "outputs": [
        {
          "output_type": "execute_result",
          "data": {
            "text/html": [
              "<div>\n",
              "<style scoped>\n",
              "    .dataframe tbody tr th:only-of-type {\n",
              "        vertical-align: middle;\n",
              "    }\n",
              "\n",
              "    .dataframe tbody tr th {\n",
              "        vertical-align: top;\n",
              "    }\n",
              "\n",
              "    .dataframe thead th {\n",
              "        text-align: right;\n",
              "    }\n",
              "</style>\n",
              "<table border=\"1\" class=\"dataframe\">\n",
              "  <thead>\n",
              "    <tr style=\"text-align: right;\">\n",
              "      <th></th>\n",
              "      <th>unidade</th>\n",
              "      <th>mes</th>\n",
              "      <th>qtd_vtr</th>\n",
              "    </tr>\n",
              "  </thead>\n",
              "  <tbody>\n",
              "    <tr>\n",
              "      <th>0</th>\n",
              "      <td>8 BPM</td>\n",
              "      <td>01</td>\n",
              "      <td>22</td>\n",
              "    </tr>\n",
              "    <tr>\n",
              "      <th>1</th>\n",
              "      <td>8 BPM</td>\n",
              "      <td>02</td>\n",
              "      <td>23</td>\n",
              "    </tr>\n",
              "    <tr>\n",
              "      <th>2</th>\n",
              "      <td>8 BPM</td>\n",
              "      <td>03</td>\n",
              "      <td>21</td>\n",
              "    </tr>\n",
              "    <tr>\n",
              "      <th>3</th>\n",
              "      <td>8 BPM</td>\n",
              "      <td>04</td>\n",
              "      <td>23</td>\n",
              "    </tr>\n",
              "    <tr>\n",
              "      <th>4</th>\n",
              "      <td>8 BPM</td>\n",
              "      <td>05</td>\n",
              "      <td>23</td>\n",
              "    </tr>\n",
              "    <tr>\n",
              "      <th>...</th>\n",
              "      <td>...</td>\n",
              "      <td>...</td>\n",
              "      <td>...</td>\n",
              "    </tr>\n",
              "    <tr>\n",
              "      <th>202</th>\n",
              "      <td>1 BPM</td>\n",
              "      <td>05</td>\n",
              "      <td>22</td>\n",
              "    </tr>\n",
              "    <tr>\n",
              "      <th>203</th>\n",
              "      <td>1 BPM</td>\n",
              "      <td>06</td>\n",
              "      <td>21</td>\n",
              "    </tr>\n",
              "    <tr>\n",
              "      <th>204</th>\n",
              "      <td>1 BPM</td>\n",
              "      <td>07</td>\n",
              "      <td>22</td>\n",
              "    </tr>\n",
              "    <tr>\n",
              "      <th>205</th>\n",
              "      <td>1 BPM</td>\n",
              "      <td>08</td>\n",
              "      <td>23</td>\n",
              "    </tr>\n",
              "    <tr>\n",
              "      <th>206</th>\n",
              "      <td>1 BPM</td>\n",
              "      <td>09</td>\n",
              "      <td>24</td>\n",
              "    </tr>\n",
              "  </tbody>\n",
              "</table>\n",
              "<p>207 rows × 3 columns</p>\n",
              "</div>"
            ],
            "text/plain": [
              "    unidade mes  qtd_vtr\n",
              "0     8 BPM  01       22\n",
              "1     8 BPM  02       23\n",
              "2     8 BPM  03       21\n",
              "3     8 BPM  04       23\n",
              "4     8 BPM  05       23\n",
              "..      ...  ..      ...\n",
              "202   1 BPM  05       22\n",
              "203   1 BPM  06       21\n",
              "204   1 BPM  07       22\n",
              "205   1 BPM  08       23\n",
              "206   1 BPM  09       24\n",
              "\n",
              "[207 rows x 3 columns]"
            ]
          },
          "metadata": {},
          "execution_count": 133
        }
      ]
    },
    {
      "cell_type": "code",
      "metadata": {
        "id": "fnOIAg7IJEij"
      },
      "source": [
        "ocorrencias = pd.read_excel('/content/drive/MyDrive/Colab Notebooks/dados/genesis.xlsx')"
      ],
      "execution_count": 136,
      "outputs": []
    },
    {
      "cell_type": "code",
      "metadata": {
        "colab": {
          "base_uri": "https://localhost:8080/"
        },
        "id": "Mo5ywOCIQDr1",
        "outputId": "6f3008c1-1873-4ab8-aff6-5bd5a106e56d"
      },
      "source": [
        "ocorrencias.columns"
      ],
      "execution_count": 139,
      "outputs": [
        {
          "output_type": "execute_result",
          "data": {
            "text/plain": [
              "Index(['UPM', 'JAN', 'FEV', 'MAR', 'ABR', 'MAI', 'JUN', 'JUL', 'AGO', 'SET',\n",
              "       'OUT', 'NOV', 'DEZ', 'TOTAL', 'Unnamed: 14'],\n",
              "      dtype='object')"
            ]
          },
          "metadata": {},
          "execution_count": 139
        }
      ]
    },
    {
      "cell_type": "code",
      "metadata": {
        "colab": {
          "base_uri": "https://localhost:8080/",
          "height": 81
        },
        "id": "zI6kpCOXRSLW",
        "outputId": "c5da7fbb-764a-4095-cf20-20d53cb7b185"
      },
      "source": [
        "ocorrencias.head(1)"
      ],
      "execution_count": 140,
      "outputs": [
        {
          "output_type": "execute_result",
          "data": {
            "text/html": [
              "<div>\n",
              "<style scoped>\n",
              "    .dataframe tbody tr th:only-of-type {\n",
              "        vertical-align: middle;\n",
              "    }\n",
              "\n",
              "    .dataframe tbody tr th {\n",
              "        vertical-align: top;\n",
              "    }\n",
              "\n",
              "    .dataframe thead th {\n",
              "        text-align: right;\n",
              "    }\n",
              "</style>\n",
              "<table border=\"1\" class=\"dataframe\">\n",
              "  <thead>\n",
              "    <tr style=\"text-align: right;\">\n",
              "      <th></th>\n",
              "      <th>UPM</th>\n",
              "      <th>JAN</th>\n",
              "      <th>FEV</th>\n",
              "      <th>MAR</th>\n",
              "      <th>ABR</th>\n",
              "      <th>MAI</th>\n",
              "      <th>JUN</th>\n",
              "      <th>JUL</th>\n",
              "      <th>AGO</th>\n",
              "      <th>SET</th>\n",
              "      <th>OUT</th>\n",
              "      <th>NOV</th>\n",
              "      <th>DEZ</th>\n",
              "      <th>TOTAL</th>\n",
              "      <th>Unnamed: 14</th>\n",
              "    </tr>\n",
              "  </thead>\n",
              "  <tbody>\n",
              "    <tr>\n",
              "      <th>0</th>\n",
              "      <td>1º</td>\n",
              "      <td>14º BPM</td>\n",
              "      <td>944</td>\n",
              "      <td>981</td>\n",
              "      <td>982</td>\n",
              "      <td>985</td>\n",
              "      <td>986</td>\n",
              "      <td>926</td>\n",
              "      <td>1010</td>\n",
              "      <td>1093</td>\n",
              "      <td>1072</td>\n",
              "      <td>1181</td>\n",
              "      <td>530</td>\n",
              "      <td>0</td>\n",
              "      <td>10690</td>\n",
              "    </tr>\n",
              "  </tbody>\n",
              "</table>\n",
              "</div>"
            ],
            "text/plain": [
              "  UPM      JAN  FEV  MAR  ABR  MAI  ...   SET   OUT   NOV  DEZ  TOTAL  Unnamed: 14\n",
              "0  1º  14º BPM  944  981  982  985  ...  1093  1072  1181  530      0        10690\n",
              "\n",
              "[1 rows x 15 columns]"
            ]
          },
          "metadata": {},
          "execution_count": 140
        }
      ]
    },
    {
      "cell_type": "code",
      "metadata": {
        "id": "sJkNe-g7RkMv"
      },
      "source": [
        "ocorrencias.columns = ['ordem', 'UPM', '01', '02', '03', '04', '05', '06', '07', '08', '09',\n",
        "       '10', '11', '12', 'TOTAL']"
      ],
      "execution_count": 161,
      "outputs": []
    },
    {
      "cell_type": "code",
      "metadata": {
        "colab": {
          "base_uri": "https://localhost:8080/",
          "height": 112
        },
        "id": "Vq4ESl2eRxHJ",
        "outputId": "ad2dc453-1a24-4a81-b03b-9f080a7aae92"
      },
      "source": [
        "ocorrencias.head(2)"
      ],
      "execution_count": 142,
      "outputs": [
        {
          "output_type": "execute_result",
          "data": {
            "text/html": [
              "<div>\n",
              "<style scoped>\n",
              "    .dataframe tbody tr th:only-of-type {\n",
              "        vertical-align: middle;\n",
              "    }\n",
              "\n",
              "    .dataframe tbody tr th {\n",
              "        vertical-align: top;\n",
              "    }\n",
              "\n",
              "    .dataframe thead th {\n",
              "        text-align: right;\n",
              "    }\n",
              "</style>\n",
              "<table border=\"1\" class=\"dataframe\">\n",
              "  <thead>\n",
              "    <tr style=\"text-align: right;\">\n",
              "      <th></th>\n",
              "      <th>ordem</th>\n",
              "      <th>UPM</th>\n",
              "      <th>JAN</th>\n",
              "      <th>FEV</th>\n",
              "      <th>MAR</th>\n",
              "      <th>ABR</th>\n",
              "      <th>MAI</th>\n",
              "      <th>JUN</th>\n",
              "      <th>JUL</th>\n",
              "      <th>AGO</th>\n",
              "      <th>SET</th>\n",
              "      <th>OUT</th>\n",
              "      <th>NOV</th>\n",
              "      <th>DEZ</th>\n",
              "      <th>TOTAL</th>\n",
              "    </tr>\n",
              "  </thead>\n",
              "  <tbody>\n",
              "    <tr>\n",
              "      <th>0</th>\n",
              "      <td>1º</td>\n",
              "      <td>14º BPM</td>\n",
              "      <td>944</td>\n",
              "      <td>981</td>\n",
              "      <td>982</td>\n",
              "      <td>985</td>\n",
              "      <td>986</td>\n",
              "      <td>926</td>\n",
              "      <td>1010</td>\n",
              "      <td>1093</td>\n",
              "      <td>1072</td>\n",
              "      <td>1181</td>\n",
              "      <td>530</td>\n",
              "      <td>0</td>\n",
              "      <td>10690</td>\n",
              "    </tr>\n",
              "    <tr>\n",
              "      <th>1</th>\n",
              "      <td>2º</td>\n",
              "      <td>26º BPM</td>\n",
              "      <td>885</td>\n",
              "      <td>831</td>\n",
              "      <td>943</td>\n",
              "      <td>887</td>\n",
              "      <td>887</td>\n",
              "      <td>906</td>\n",
              "      <td>914</td>\n",
              "      <td>907</td>\n",
              "      <td>887</td>\n",
              "      <td>943</td>\n",
              "      <td>507</td>\n",
              "      <td>0</td>\n",
              "      <td>9497</td>\n",
              "    </tr>\n",
              "  </tbody>\n",
              "</table>\n",
              "</div>"
            ],
            "text/plain": [
              "  ordem      UPM  JAN  FEV  MAR  ABR  ...   AGO   SET   OUT  NOV  DEZ  TOTAL\n",
              "0    1º  14º BPM  944  981  982  985  ...  1093  1072  1181  530    0  10690\n",
              "1    2º  26º BPM  885  831  943  887  ...   907   887   943  507    0   9497\n",
              "\n",
              "[2 rows x 15 columns]"
            ]
          },
          "metadata": {},
          "execution_count": 142
        }
      ]
    },
    {
      "cell_type": "code",
      "metadata": {
        "colab": {
          "base_uri": "https://localhost:8080/"
        },
        "id": "EMAzxMjcRzuC",
        "outputId": "fd1ec04f-e03b-4321-f81c-6c4f91beea37"
      },
      "source": [
        "viaturas['unidade'].unique()"
      ],
      "execution_count": 143,
      "outputs": [
        {
          "output_type": "execute_result",
          "data": {
            "text/plain": [
              "array(['8 BPM', '15 BPM', '10 BPM', '14 BPM', '9 BPM', '11 BPM', '24 BPM',\n",
              "       '16 BPM', '20 BPM', '2 BPM', '28 BPM', '7 BPM', '4 BPM', '26 BPM',\n",
              "       '25 BPM', '27 BPM', '6 BPM', '21 BPM', '13 BPM', '17 BPM', '5 BPM',\n",
              "       '3 BPM', '1 BPM'], dtype=object)"
            ]
          },
          "metadata": {},
          "execution_count": 143
        }
      ]
    },
    {
      "cell_type": "code",
      "metadata": {
        "id": "fC461SVmSDnT"
      },
      "source": [
        "ocorrencias['UPM'] = ocorrencias.UPM.apply(lambda x:  x.replace('º', ''))"
      ],
      "execution_count": 146,
      "outputs": []
    },
    {
      "cell_type": "code",
      "metadata": {
        "id": "NfD1GAyKSHBg"
      },
      "source": [
        "ocorrencias = ocorrencias[ocorrencias.UPM.isin(viaturas['unidade'].unique())]"
      ],
      "execution_count": 149,
      "outputs": []
    },
    {
      "cell_type": "code",
      "metadata": {
        "colab": {
          "base_uri": "https://localhost:8080/",
          "height": 770
        },
        "id": "u6MM8rMYSceg",
        "outputId": "815455a2-6154-4f2e-c1c7-1a30b5981a48"
      },
      "source": [
        "ocorrencias"
      ],
      "execution_count": 150,
      "outputs": [
        {
          "output_type": "execute_result",
          "data": {
            "text/html": [
              "<div>\n",
              "<style scoped>\n",
              "    .dataframe tbody tr th:only-of-type {\n",
              "        vertical-align: middle;\n",
              "    }\n",
              "\n",
              "    .dataframe tbody tr th {\n",
              "        vertical-align: top;\n",
              "    }\n",
              "\n",
              "    .dataframe thead th {\n",
              "        text-align: right;\n",
              "    }\n",
              "</style>\n",
              "<table border=\"1\" class=\"dataframe\">\n",
              "  <thead>\n",
              "    <tr style=\"text-align: right;\">\n",
              "      <th></th>\n",
              "      <th>ordem</th>\n",
              "      <th>UPM</th>\n",
              "      <th>JAN</th>\n",
              "      <th>FEV</th>\n",
              "      <th>MAR</th>\n",
              "      <th>ABR</th>\n",
              "      <th>MAI</th>\n",
              "      <th>JUN</th>\n",
              "      <th>JUL</th>\n",
              "      <th>AGO</th>\n",
              "      <th>SET</th>\n",
              "      <th>OUT</th>\n",
              "      <th>NOV</th>\n",
              "      <th>DEZ</th>\n",
              "      <th>TOTAL</th>\n",
              "    </tr>\n",
              "  </thead>\n",
              "  <tbody>\n",
              "    <tr>\n",
              "      <th>0</th>\n",
              "      <td>1º</td>\n",
              "      <td>14 BPM</td>\n",
              "      <td>944</td>\n",
              "      <td>981</td>\n",
              "      <td>982</td>\n",
              "      <td>985</td>\n",
              "      <td>986</td>\n",
              "      <td>926</td>\n",
              "      <td>1010</td>\n",
              "      <td>1093</td>\n",
              "      <td>1072</td>\n",
              "      <td>1181</td>\n",
              "      <td>530</td>\n",
              "      <td>0</td>\n",
              "      <td>10690</td>\n",
              "    </tr>\n",
              "    <tr>\n",
              "      <th>1</th>\n",
              "      <td>2º</td>\n",
              "      <td>26 BPM</td>\n",
              "      <td>885</td>\n",
              "      <td>831</td>\n",
              "      <td>943</td>\n",
              "      <td>887</td>\n",
              "      <td>887</td>\n",
              "      <td>906</td>\n",
              "      <td>914</td>\n",
              "      <td>907</td>\n",
              "      <td>887</td>\n",
              "      <td>943</td>\n",
              "      <td>507</td>\n",
              "      <td>0</td>\n",
              "      <td>9497</td>\n",
              "    </tr>\n",
              "    <tr>\n",
              "      <th>2</th>\n",
              "      <td>3º</td>\n",
              "      <td>2 BPM</td>\n",
              "      <td>926</td>\n",
              "      <td>709</td>\n",
              "      <td>660</td>\n",
              "      <td>676</td>\n",
              "      <td>852</td>\n",
              "      <td>840</td>\n",
              "      <td>918</td>\n",
              "      <td>1634</td>\n",
              "      <td>771</td>\n",
              "      <td>859</td>\n",
              "      <td>456</td>\n",
              "      <td>0</td>\n",
              "      <td>9301</td>\n",
              "    </tr>\n",
              "    <tr>\n",
              "      <th>3</th>\n",
              "      <td>4º</td>\n",
              "      <td>9 BPM</td>\n",
              "      <td>830</td>\n",
              "      <td>765</td>\n",
              "      <td>874</td>\n",
              "      <td>839</td>\n",
              "      <td>896</td>\n",
              "      <td>907</td>\n",
              "      <td>778</td>\n",
              "      <td>819</td>\n",
              "      <td>843</td>\n",
              "      <td>893</td>\n",
              "      <td>432</td>\n",
              "      <td>0</td>\n",
              "      <td>8876</td>\n",
              "    </tr>\n",
              "    <tr>\n",
              "      <th>4</th>\n",
              "      <td>5º</td>\n",
              "      <td>27 BPM</td>\n",
              "      <td>767</td>\n",
              "      <td>709</td>\n",
              "      <td>725</td>\n",
              "      <td>752</td>\n",
              "      <td>772</td>\n",
              "      <td>790</td>\n",
              "      <td>765</td>\n",
              "      <td>799</td>\n",
              "      <td>837</td>\n",
              "      <td>978</td>\n",
              "      <td>422</td>\n",
              "      <td>0</td>\n",
              "      <td>8316</td>\n",
              "    </tr>\n",
              "    <tr>\n",
              "      <th>5</th>\n",
              "      <td>6º</td>\n",
              "      <td>21 BPM</td>\n",
              "      <td>674</td>\n",
              "      <td>724</td>\n",
              "      <td>717</td>\n",
              "      <td>777</td>\n",
              "      <td>875</td>\n",
              "      <td>824</td>\n",
              "      <td>763</td>\n",
              "      <td>702</td>\n",
              "      <td>711</td>\n",
              "      <td>808</td>\n",
              "      <td>475</td>\n",
              "      <td>0</td>\n",
              "      <td>8050</td>\n",
              "    </tr>\n",
              "    <tr>\n",
              "      <th>6</th>\n",
              "      <td>7º</td>\n",
              "      <td>8 BPM</td>\n",
              "      <td>812</td>\n",
              "      <td>740</td>\n",
              "      <td>688</td>\n",
              "      <td>759</td>\n",
              "      <td>719</td>\n",
              "      <td>638</td>\n",
              "      <td>767</td>\n",
              "      <td>691</td>\n",
              "      <td>656</td>\n",
              "      <td>884</td>\n",
              "      <td>411</td>\n",
              "      <td>0</td>\n",
              "      <td>7765</td>\n",
              "    </tr>\n",
              "    <tr>\n",
              "      <th>7</th>\n",
              "      <td>8º</td>\n",
              "      <td>13 BPM</td>\n",
              "      <td>755</td>\n",
              "      <td>741</td>\n",
              "      <td>732</td>\n",
              "      <td>753</td>\n",
              "      <td>773</td>\n",
              "      <td>743</td>\n",
              "      <td>699</td>\n",
              "      <td>580</td>\n",
              "      <td>604</td>\n",
              "      <td>737</td>\n",
              "      <td>279</td>\n",
              "      <td>0</td>\n",
              "      <td>7396</td>\n",
              "    </tr>\n",
              "    <tr>\n",
              "      <th>8</th>\n",
              "      <td>9º</td>\n",
              "      <td>10 BPM</td>\n",
              "      <td>730</td>\n",
              "      <td>676</td>\n",
              "      <td>695</td>\n",
              "      <td>688</td>\n",
              "      <td>678</td>\n",
              "      <td>625</td>\n",
              "      <td>652</td>\n",
              "      <td>618</td>\n",
              "      <td>713</td>\n",
              "      <td>780</td>\n",
              "      <td>275</td>\n",
              "      <td>0</td>\n",
              "      <td>7130</td>\n",
              "    </tr>\n",
              "    <tr>\n",
              "      <th>9</th>\n",
              "      <td>10º</td>\n",
              "      <td>20 BPM</td>\n",
              "      <td>563</td>\n",
              "      <td>610</td>\n",
              "      <td>527</td>\n",
              "      <td>579</td>\n",
              "      <td>720</td>\n",
              "      <td>631</td>\n",
              "      <td>673</td>\n",
              "      <td>632</td>\n",
              "      <td>662</td>\n",
              "      <td>693</td>\n",
              "      <td>341</td>\n",
              "      <td>0</td>\n",
              "      <td>6631</td>\n",
              "    </tr>\n",
              "    <tr>\n",
              "      <th>10</th>\n",
              "      <td>11º</td>\n",
              "      <td>17 BPM</td>\n",
              "      <td>589</td>\n",
              "      <td>573</td>\n",
              "      <td>519</td>\n",
              "      <td>518</td>\n",
              "      <td>602</td>\n",
              "      <td>504</td>\n",
              "      <td>545</td>\n",
              "      <td>619</td>\n",
              "      <td>634</td>\n",
              "      <td>629</td>\n",
              "      <td>404</td>\n",
              "      <td>0</td>\n",
              "      <td>6136</td>\n",
              "    </tr>\n",
              "    <tr>\n",
              "      <th>11</th>\n",
              "      <td>12º</td>\n",
              "      <td>3 BPM</td>\n",
              "      <td>534</td>\n",
              "      <td>521</td>\n",
              "      <td>647</td>\n",
              "      <td>499</td>\n",
              "      <td>479</td>\n",
              "      <td>418</td>\n",
              "      <td>622</td>\n",
              "      <td>623</td>\n",
              "      <td>539</td>\n",
              "      <td>702</td>\n",
              "      <td>405</td>\n",
              "      <td>0</td>\n",
              "      <td>5989</td>\n",
              "    </tr>\n",
              "    <tr>\n",
              "      <th>12</th>\n",
              "      <td>13º</td>\n",
              "      <td>15 BPM</td>\n",
              "      <td>479</td>\n",
              "      <td>484</td>\n",
              "      <td>508</td>\n",
              "      <td>487</td>\n",
              "      <td>470</td>\n",
              "      <td>399</td>\n",
              "      <td>498</td>\n",
              "      <td>841</td>\n",
              "      <td>595</td>\n",
              "      <td>618</td>\n",
              "      <td>323</td>\n",
              "      <td>0</td>\n",
              "      <td>5702</td>\n",
              "    </tr>\n",
              "    <tr>\n",
              "      <th>13</th>\n",
              "      <td>14º</td>\n",
              "      <td>11 BPM</td>\n",
              "      <td>660</td>\n",
              "      <td>580</td>\n",
              "      <td>485</td>\n",
              "      <td>455</td>\n",
              "      <td>495</td>\n",
              "      <td>476</td>\n",
              "      <td>460</td>\n",
              "      <td>446</td>\n",
              "      <td>481</td>\n",
              "      <td>565</td>\n",
              "      <td>285</td>\n",
              "      <td>0</td>\n",
              "      <td>5388</td>\n",
              "    </tr>\n",
              "    <tr>\n",
              "      <th>14</th>\n",
              "      <td>15º</td>\n",
              "      <td>28 BPM</td>\n",
              "      <td>554</td>\n",
              "      <td>495</td>\n",
              "      <td>499</td>\n",
              "      <td>450</td>\n",
              "      <td>556</td>\n",
              "      <td>484</td>\n",
              "      <td>485</td>\n",
              "      <td>523</td>\n",
              "      <td>440</td>\n",
              "      <td>513</td>\n",
              "      <td>236</td>\n",
              "      <td>0</td>\n",
              "      <td>5235</td>\n",
              "    </tr>\n",
              "    <tr>\n",
              "      <th>16</th>\n",
              "      <td>17º</td>\n",
              "      <td>4 BPM</td>\n",
              "      <td>467</td>\n",
              "      <td>458</td>\n",
              "      <td>413</td>\n",
              "      <td>421</td>\n",
              "      <td>479</td>\n",
              "      <td>467</td>\n",
              "      <td>539</td>\n",
              "      <td>497</td>\n",
              "      <td>442</td>\n",
              "      <td>526</td>\n",
              "      <td>242</td>\n",
              "      <td>0</td>\n",
              "      <td>4951</td>\n",
              "    </tr>\n",
              "    <tr>\n",
              "      <th>17</th>\n",
              "      <td>18º</td>\n",
              "      <td>1 BPM</td>\n",
              "      <td>474</td>\n",
              "      <td>429</td>\n",
              "      <td>546</td>\n",
              "      <td>397</td>\n",
              "      <td>422</td>\n",
              "      <td>349</td>\n",
              "      <td>482</td>\n",
              "      <td>507</td>\n",
              "      <td>482</td>\n",
              "      <td>570</td>\n",
              "      <td>221</td>\n",
              "      <td>0</td>\n",
              "      <td>4879</td>\n",
              "    </tr>\n",
              "    <tr>\n",
              "      <th>19</th>\n",
              "      <td>20º</td>\n",
              "      <td>16 BPM</td>\n",
              "      <td>314</td>\n",
              "      <td>273</td>\n",
              "      <td>346</td>\n",
              "      <td>332</td>\n",
              "      <td>355</td>\n",
              "      <td>353</td>\n",
              "      <td>379</td>\n",
              "      <td>380</td>\n",
              "      <td>385</td>\n",
              "      <td>454</td>\n",
              "      <td>254</td>\n",
              "      <td>0</td>\n",
              "      <td>3825</td>\n",
              "    </tr>\n",
              "    <tr>\n",
              "      <th>21</th>\n",
              "      <td>22º</td>\n",
              "      <td>25 BPM</td>\n",
              "      <td>347</td>\n",
              "      <td>284</td>\n",
              "      <td>279</td>\n",
              "      <td>260</td>\n",
              "      <td>348</td>\n",
              "      <td>367</td>\n",
              "      <td>404</td>\n",
              "      <td>375</td>\n",
              "      <td>342</td>\n",
              "      <td>484</td>\n",
              "      <td>239</td>\n",
              "      <td>0</td>\n",
              "      <td>3729</td>\n",
              "    </tr>\n",
              "    <tr>\n",
              "      <th>22</th>\n",
              "      <td>23º</td>\n",
              "      <td>7 BPM</td>\n",
              "      <td>326</td>\n",
              "      <td>289</td>\n",
              "      <td>286</td>\n",
              "      <td>312</td>\n",
              "      <td>337</td>\n",
              "      <td>344</td>\n",
              "      <td>298</td>\n",
              "      <td>303</td>\n",
              "      <td>270</td>\n",
              "      <td>301</td>\n",
              "      <td>196</td>\n",
              "      <td>0</td>\n",
              "      <td>3262</td>\n",
              "    </tr>\n",
              "    <tr>\n",
              "      <th>23</th>\n",
              "      <td>24º</td>\n",
              "      <td>24 BPM</td>\n",
              "      <td>187</td>\n",
              "      <td>164</td>\n",
              "      <td>198</td>\n",
              "      <td>183</td>\n",
              "      <td>200</td>\n",
              "      <td>237</td>\n",
              "      <td>209</td>\n",
              "      <td>268</td>\n",
              "      <td>223</td>\n",
              "      <td>247</td>\n",
              "      <td>109</td>\n",
              "      <td>0</td>\n",
              "      <td>2225</td>\n",
              "    </tr>\n",
              "    <tr>\n",
              "      <th>24</th>\n",
              "      <td>25º</td>\n",
              "      <td>5 BPM</td>\n",
              "      <td>244</td>\n",
              "      <td>196</td>\n",
              "      <td>171</td>\n",
              "      <td>216</td>\n",
              "      <td>214</td>\n",
              "      <td>197</td>\n",
              "      <td>193</td>\n",
              "      <td>200</td>\n",
              "      <td>175</td>\n",
              "      <td>203</td>\n",
              "      <td>93</td>\n",
              "      <td>0</td>\n",
              "      <td>2102</td>\n",
              "    </tr>\n",
              "    <tr>\n",
              "      <th>26</th>\n",
              "      <td>27º</td>\n",
              "      <td>6 BPM</td>\n",
              "      <td>128</td>\n",
              "      <td>104</td>\n",
              "      <td>114</td>\n",
              "      <td>134</td>\n",
              "      <td>147</td>\n",
              "      <td>152</td>\n",
              "      <td>215</td>\n",
              "      <td>215</td>\n",
              "      <td>187</td>\n",
              "      <td>235</td>\n",
              "      <td>144</td>\n",
              "      <td>0</td>\n",
              "      <td>1775</td>\n",
              "    </tr>\n",
              "  </tbody>\n",
              "</table>\n",
              "</div>"
            ],
            "text/plain": [
              "   ordem     UPM  JAN  FEV  MAR  ABR  ...   AGO   SET   OUT  NOV  DEZ  TOTAL\n",
              "0     1º  14 BPM  944  981  982  985  ...  1093  1072  1181  530    0  10690\n",
              "1     2º  26 BPM  885  831  943  887  ...   907   887   943  507    0   9497\n",
              "2     3º   2 BPM  926  709  660  676  ...  1634   771   859  456    0   9301\n",
              "3     4º   9 BPM  830  765  874  839  ...   819   843   893  432    0   8876\n",
              "4     5º  27 BPM  767  709  725  752  ...   799   837   978  422    0   8316\n",
              "5     6º  21 BPM  674  724  717  777  ...   702   711   808  475    0   8050\n",
              "6     7º   8 BPM  812  740  688  759  ...   691   656   884  411    0   7765\n",
              "7     8º  13 BPM  755  741  732  753  ...   580   604   737  279    0   7396\n",
              "8     9º  10 BPM  730  676  695  688  ...   618   713   780  275    0   7130\n",
              "9    10º  20 BPM  563  610  527  579  ...   632   662   693  341    0   6631\n",
              "10   11º  17 BPM  589  573  519  518  ...   619   634   629  404    0   6136\n",
              "11   12º   3 BPM  534  521  647  499  ...   623   539   702  405    0   5989\n",
              "12   13º  15 BPM  479  484  508  487  ...   841   595   618  323    0   5702\n",
              "13   14º  11 BPM  660  580  485  455  ...   446   481   565  285    0   5388\n",
              "14   15º  28 BPM  554  495  499  450  ...   523   440   513  236    0   5235\n",
              "16   17º   4 BPM  467  458  413  421  ...   497   442   526  242    0   4951\n",
              "17   18º   1 BPM  474  429  546  397  ...   507   482   570  221    0   4879\n",
              "19   20º  16 BPM  314  273  346  332  ...   380   385   454  254    0   3825\n",
              "21   22º  25 BPM  347  284  279  260  ...   375   342   484  239    0   3729\n",
              "22   23º   7 BPM  326  289  286  312  ...   303   270   301  196    0   3262\n",
              "23   24º  24 BPM  187  164  198  183  ...   268   223   247  109    0   2225\n",
              "24   25º   5 BPM  244  196  171  216  ...   200   175   203   93    0   2102\n",
              "26   27º   6 BPM  128  104  114  134  ...   215   187   235  144    0   1775\n",
              "\n",
              "[23 rows x 15 columns]"
            ]
          },
          "metadata": {},
          "execution_count": 150
        }
      ]
    },
    {
      "cell_type": "code",
      "metadata": {
        "id": "PLe7tjPsSpjf"
      },
      "source": [
        "vtr_unidade['mes-unidade'] = vtr_unidade.mes + vtr_unidade.unidade"
      ],
      "execution_count": 152,
      "outputs": []
    },
    {
      "cell_type": "code",
      "metadata": {
        "id": "f3cyQCl7SviN"
      },
      "source": [
        "vtr_unidade['mes-unidade'].apply(lambda x : print(x))"
      ],
      "execution_count": null,
      "outputs": []
    },
    {
      "cell_type": "code",
      "metadata": {
        "colab": {
          "base_uri": "https://localhost:8080/",
          "height": 112
        },
        "id": "DbpkA0_5T4eS",
        "outputId": "b8430b16-f2b2-4567-a6c4-2d30d47be572"
      },
      "source": [
        "vtr_unidade.head(2)"
      ],
      "execution_count": 157,
      "outputs": [
        {
          "output_type": "execute_result",
          "data": {
            "text/html": [
              "<div>\n",
              "<style scoped>\n",
              "    .dataframe tbody tr th:only-of-type {\n",
              "        vertical-align: middle;\n",
              "    }\n",
              "\n",
              "    .dataframe tbody tr th {\n",
              "        vertical-align: top;\n",
              "    }\n",
              "\n",
              "    .dataframe thead th {\n",
              "        text-align: right;\n",
              "    }\n",
              "</style>\n",
              "<table border=\"1\" class=\"dataframe\">\n",
              "  <thead>\n",
              "    <tr style=\"text-align: right;\">\n",
              "      <th></th>\n",
              "      <th>unidade</th>\n",
              "      <th>mes</th>\n",
              "      <th>qtd_vtr</th>\n",
              "      <th>mes-unidade</th>\n",
              "    </tr>\n",
              "  </thead>\n",
              "  <tbody>\n",
              "    <tr>\n",
              "      <th>0</th>\n",
              "      <td>8 BPM</td>\n",
              "      <td>01</td>\n",
              "      <td>22</td>\n",
              "      <td>018 BPM</td>\n",
              "    </tr>\n",
              "    <tr>\n",
              "      <th>1</th>\n",
              "      <td>8 BPM</td>\n",
              "      <td>02</td>\n",
              "      <td>23</td>\n",
              "      <td>028 BPM</td>\n",
              "    </tr>\n",
              "  </tbody>\n",
              "</table>\n",
              "</div>"
            ],
            "text/plain": [
              "  unidade mes  qtd_vtr mes-unidade\n",
              "0   8 BPM  01       22     018 BPM\n",
              "1   8 BPM  02       23     028 BPM"
            ]
          },
          "metadata": {},
          "execution_count": 157
        }
      ]
    },
    {
      "cell_type": "code",
      "metadata": {
        "id": "gy8oNTNBTNrc"
      },
      "source": [
        "def buscaOcorrencia(dado):\n",
        "  mes = dado[0:2]\n",
        "  unidade = dado[2:]\n",
        "  return ocorrencias.query('UPM == \"' + unidade + '\"')[mes].iloc[0]\n"
      ],
      "execution_count": 185,
      "outputs": []
    },
    {
      "cell_type": "code",
      "metadata": {
        "colab": {
          "base_uri": "https://localhost:8080/"
        },
        "id": "m2DGs7T0T0QR",
        "outputId": "a6df2ed4-971b-446a-c2bf-22b2eefa1f19"
      },
      "source": [
        "buscaOcorrencia('028 BPM')"
      ],
      "execution_count": 186,
      "outputs": [
        {
          "output_type": "execute_result",
          "data": {
            "text/plain": [
              "740"
            ]
          },
          "metadata": {},
          "execution_count": 186
        }
      ]
    },
    {
      "cell_type": "code",
      "metadata": {
        "colab": {
          "base_uri": "https://localhost:8080/",
          "height": 770
        },
        "id": "EnirnOlGT956",
        "outputId": "c0266d17-8038-452f-ab41-c735bb22ff8a"
      },
      "source": [
        "ocorrencias"
      ],
      "execution_count": 187,
      "outputs": [
        {
          "output_type": "execute_result",
          "data": {
            "text/html": [
              "<div>\n",
              "<style scoped>\n",
              "    .dataframe tbody tr th:only-of-type {\n",
              "        vertical-align: middle;\n",
              "    }\n",
              "\n",
              "    .dataframe tbody tr th {\n",
              "        vertical-align: top;\n",
              "    }\n",
              "\n",
              "    .dataframe thead th {\n",
              "        text-align: right;\n",
              "    }\n",
              "</style>\n",
              "<table border=\"1\" class=\"dataframe\">\n",
              "  <thead>\n",
              "    <tr style=\"text-align: right;\">\n",
              "      <th></th>\n",
              "      <th>ordem</th>\n",
              "      <th>UPM</th>\n",
              "      <th>01</th>\n",
              "      <th>02</th>\n",
              "      <th>03</th>\n",
              "      <th>04</th>\n",
              "      <th>05</th>\n",
              "      <th>06</th>\n",
              "      <th>07</th>\n",
              "      <th>08</th>\n",
              "      <th>09</th>\n",
              "      <th>10</th>\n",
              "      <th>11</th>\n",
              "      <th>12</th>\n",
              "      <th>TOTAL</th>\n",
              "    </tr>\n",
              "  </thead>\n",
              "  <tbody>\n",
              "    <tr>\n",
              "      <th>0</th>\n",
              "      <td>1º</td>\n",
              "      <td>14 BPM</td>\n",
              "      <td>944</td>\n",
              "      <td>981</td>\n",
              "      <td>982</td>\n",
              "      <td>985</td>\n",
              "      <td>986</td>\n",
              "      <td>926</td>\n",
              "      <td>1010</td>\n",
              "      <td>1093</td>\n",
              "      <td>1072</td>\n",
              "      <td>1181</td>\n",
              "      <td>530</td>\n",
              "      <td>0</td>\n",
              "      <td>10690</td>\n",
              "    </tr>\n",
              "    <tr>\n",
              "      <th>1</th>\n",
              "      <td>2º</td>\n",
              "      <td>26 BPM</td>\n",
              "      <td>885</td>\n",
              "      <td>831</td>\n",
              "      <td>943</td>\n",
              "      <td>887</td>\n",
              "      <td>887</td>\n",
              "      <td>906</td>\n",
              "      <td>914</td>\n",
              "      <td>907</td>\n",
              "      <td>887</td>\n",
              "      <td>943</td>\n",
              "      <td>507</td>\n",
              "      <td>0</td>\n",
              "      <td>9497</td>\n",
              "    </tr>\n",
              "    <tr>\n",
              "      <th>2</th>\n",
              "      <td>3º</td>\n",
              "      <td>2 BPM</td>\n",
              "      <td>926</td>\n",
              "      <td>709</td>\n",
              "      <td>660</td>\n",
              "      <td>676</td>\n",
              "      <td>852</td>\n",
              "      <td>840</td>\n",
              "      <td>918</td>\n",
              "      <td>1634</td>\n",
              "      <td>771</td>\n",
              "      <td>859</td>\n",
              "      <td>456</td>\n",
              "      <td>0</td>\n",
              "      <td>9301</td>\n",
              "    </tr>\n",
              "    <tr>\n",
              "      <th>3</th>\n",
              "      <td>4º</td>\n",
              "      <td>9 BPM</td>\n",
              "      <td>830</td>\n",
              "      <td>765</td>\n",
              "      <td>874</td>\n",
              "      <td>839</td>\n",
              "      <td>896</td>\n",
              "      <td>907</td>\n",
              "      <td>778</td>\n",
              "      <td>819</td>\n",
              "      <td>843</td>\n",
              "      <td>893</td>\n",
              "      <td>432</td>\n",
              "      <td>0</td>\n",
              "      <td>8876</td>\n",
              "    </tr>\n",
              "    <tr>\n",
              "      <th>4</th>\n",
              "      <td>5º</td>\n",
              "      <td>27 BPM</td>\n",
              "      <td>767</td>\n",
              "      <td>709</td>\n",
              "      <td>725</td>\n",
              "      <td>752</td>\n",
              "      <td>772</td>\n",
              "      <td>790</td>\n",
              "      <td>765</td>\n",
              "      <td>799</td>\n",
              "      <td>837</td>\n",
              "      <td>978</td>\n",
              "      <td>422</td>\n",
              "      <td>0</td>\n",
              "      <td>8316</td>\n",
              "    </tr>\n",
              "    <tr>\n",
              "      <th>5</th>\n",
              "      <td>6º</td>\n",
              "      <td>21 BPM</td>\n",
              "      <td>674</td>\n",
              "      <td>724</td>\n",
              "      <td>717</td>\n",
              "      <td>777</td>\n",
              "      <td>875</td>\n",
              "      <td>824</td>\n",
              "      <td>763</td>\n",
              "      <td>702</td>\n",
              "      <td>711</td>\n",
              "      <td>808</td>\n",
              "      <td>475</td>\n",
              "      <td>0</td>\n",
              "      <td>8050</td>\n",
              "    </tr>\n",
              "    <tr>\n",
              "      <th>6</th>\n",
              "      <td>7º</td>\n",
              "      <td>8 BPM</td>\n",
              "      <td>812</td>\n",
              "      <td>740</td>\n",
              "      <td>688</td>\n",
              "      <td>759</td>\n",
              "      <td>719</td>\n",
              "      <td>638</td>\n",
              "      <td>767</td>\n",
              "      <td>691</td>\n",
              "      <td>656</td>\n",
              "      <td>884</td>\n",
              "      <td>411</td>\n",
              "      <td>0</td>\n",
              "      <td>7765</td>\n",
              "    </tr>\n",
              "    <tr>\n",
              "      <th>7</th>\n",
              "      <td>8º</td>\n",
              "      <td>13 BPM</td>\n",
              "      <td>755</td>\n",
              "      <td>741</td>\n",
              "      <td>732</td>\n",
              "      <td>753</td>\n",
              "      <td>773</td>\n",
              "      <td>743</td>\n",
              "      <td>699</td>\n",
              "      <td>580</td>\n",
              "      <td>604</td>\n",
              "      <td>737</td>\n",
              "      <td>279</td>\n",
              "      <td>0</td>\n",
              "      <td>7396</td>\n",
              "    </tr>\n",
              "    <tr>\n",
              "      <th>8</th>\n",
              "      <td>9º</td>\n",
              "      <td>10 BPM</td>\n",
              "      <td>730</td>\n",
              "      <td>676</td>\n",
              "      <td>695</td>\n",
              "      <td>688</td>\n",
              "      <td>678</td>\n",
              "      <td>625</td>\n",
              "      <td>652</td>\n",
              "      <td>618</td>\n",
              "      <td>713</td>\n",
              "      <td>780</td>\n",
              "      <td>275</td>\n",
              "      <td>0</td>\n",
              "      <td>7130</td>\n",
              "    </tr>\n",
              "    <tr>\n",
              "      <th>9</th>\n",
              "      <td>10º</td>\n",
              "      <td>20 BPM</td>\n",
              "      <td>563</td>\n",
              "      <td>610</td>\n",
              "      <td>527</td>\n",
              "      <td>579</td>\n",
              "      <td>720</td>\n",
              "      <td>631</td>\n",
              "      <td>673</td>\n",
              "      <td>632</td>\n",
              "      <td>662</td>\n",
              "      <td>693</td>\n",
              "      <td>341</td>\n",
              "      <td>0</td>\n",
              "      <td>6631</td>\n",
              "    </tr>\n",
              "    <tr>\n",
              "      <th>10</th>\n",
              "      <td>11º</td>\n",
              "      <td>17 BPM</td>\n",
              "      <td>589</td>\n",
              "      <td>573</td>\n",
              "      <td>519</td>\n",
              "      <td>518</td>\n",
              "      <td>602</td>\n",
              "      <td>504</td>\n",
              "      <td>545</td>\n",
              "      <td>619</td>\n",
              "      <td>634</td>\n",
              "      <td>629</td>\n",
              "      <td>404</td>\n",
              "      <td>0</td>\n",
              "      <td>6136</td>\n",
              "    </tr>\n",
              "    <tr>\n",
              "      <th>11</th>\n",
              "      <td>12º</td>\n",
              "      <td>3 BPM</td>\n",
              "      <td>534</td>\n",
              "      <td>521</td>\n",
              "      <td>647</td>\n",
              "      <td>499</td>\n",
              "      <td>479</td>\n",
              "      <td>418</td>\n",
              "      <td>622</td>\n",
              "      <td>623</td>\n",
              "      <td>539</td>\n",
              "      <td>702</td>\n",
              "      <td>405</td>\n",
              "      <td>0</td>\n",
              "      <td>5989</td>\n",
              "    </tr>\n",
              "    <tr>\n",
              "      <th>12</th>\n",
              "      <td>13º</td>\n",
              "      <td>15 BPM</td>\n",
              "      <td>479</td>\n",
              "      <td>484</td>\n",
              "      <td>508</td>\n",
              "      <td>487</td>\n",
              "      <td>470</td>\n",
              "      <td>399</td>\n",
              "      <td>498</td>\n",
              "      <td>841</td>\n",
              "      <td>595</td>\n",
              "      <td>618</td>\n",
              "      <td>323</td>\n",
              "      <td>0</td>\n",
              "      <td>5702</td>\n",
              "    </tr>\n",
              "    <tr>\n",
              "      <th>13</th>\n",
              "      <td>14º</td>\n",
              "      <td>11 BPM</td>\n",
              "      <td>660</td>\n",
              "      <td>580</td>\n",
              "      <td>485</td>\n",
              "      <td>455</td>\n",
              "      <td>495</td>\n",
              "      <td>476</td>\n",
              "      <td>460</td>\n",
              "      <td>446</td>\n",
              "      <td>481</td>\n",
              "      <td>565</td>\n",
              "      <td>285</td>\n",
              "      <td>0</td>\n",
              "      <td>5388</td>\n",
              "    </tr>\n",
              "    <tr>\n",
              "      <th>14</th>\n",
              "      <td>15º</td>\n",
              "      <td>28 BPM</td>\n",
              "      <td>554</td>\n",
              "      <td>495</td>\n",
              "      <td>499</td>\n",
              "      <td>450</td>\n",
              "      <td>556</td>\n",
              "      <td>484</td>\n",
              "      <td>485</td>\n",
              "      <td>523</td>\n",
              "      <td>440</td>\n",
              "      <td>513</td>\n",
              "      <td>236</td>\n",
              "      <td>0</td>\n",
              "      <td>5235</td>\n",
              "    </tr>\n",
              "    <tr>\n",
              "      <th>16</th>\n",
              "      <td>17º</td>\n",
              "      <td>4 BPM</td>\n",
              "      <td>467</td>\n",
              "      <td>458</td>\n",
              "      <td>413</td>\n",
              "      <td>421</td>\n",
              "      <td>479</td>\n",
              "      <td>467</td>\n",
              "      <td>539</td>\n",
              "      <td>497</td>\n",
              "      <td>442</td>\n",
              "      <td>526</td>\n",
              "      <td>242</td>\n",
              "      <td>0</td>\n",
              "      <td>4951</td>\n",
              "    </tr>\n",
              "    <tr>\n",
              "      <th>17</th>\n",
              "      <td>18º</td>\n",
              "      <td>1 BPM</td>\n",
              "      <td>474</td>\n",
              "      <td>429</td>\n",
              "      <td>546</td>\n",
              "      <td>397</td>\n",
              "      <td>422</td>\n",
              "      <td>349</td>\n",
              "      <td>482</td>\n",
              "      <td>507</td>\n",
              "      <td>482</td>\n",
              "      <td>570</td>\n",
              "      <td>221</td>\n",
              "      <td>0</td>\n",
              "      <td>4879</td>\n",
              "    </tr>\n",
              "    <tr>\n",
              "      <th>19</th>\n",
              "      <td>20º</td>\n",
              "      <td>16 BPM</td>\n",
              "      <td>314</td>\n",
              "      <td>273</td>\n",
              "      <td>346</td>\n",
              "      <td>332</td>\n",
              "      <td>355</td>\n",
              "      <td>353</td>\n",
              "      <td>379</td>\n",
              "      <td>380</td>\n",
              "      <td>385</td>\n",
              "      <td>454</td>\n",
              "      <td>254</td>\n",
              "      <td>0</td>\n",
              "      <td>3825</td>\n",
              "    </tr>\n",
              "    <tr>\n",
              "      <th>21</th>\n",
              "      <td>22º</td>\n",
              "      <td>25 BPM</td>\n",
              "      <td>347</td>\n",
              "      <td>284</td>\n",
              "      <td>279</td>\n",
              "      <td>260</td>\n",
              "      <td>348</td>\n",
              "      <td>367</td>\n",
              "      <td>404</td>\n",
              "      <td>375</td>\n",
              "      <td>342</td>\n",
              "      <td>484</td>\n",
              "      <td>239</td>\n",
              "      <td>0</td>\n",
              "      <td>3729</td>\n",
              "    </tr>\n",
              "    <tr>\n",
              "      <th>22</th>\n",
              "      <td>23º</td>\n",
              "      <td>7 BPM</td>\n",
              "      <td>326</td>\n",
              "      <td>289</td>\n",
              "      <td>286</td>\n",
              "      <td>312</td>\n",
              "      <td>337</td>\n",
              "      <td>344</td>\n",
              "      <td>298</td>\n",
              "      <td>303</td>\n",
              "      <td>270</td>\n",
              "      <td>301</td>\n",
              "      <td>196</td>\n",
              "      <td>0</td>\n",
              "      <td>3262</td>\n",
              "    </tr>\n",
              "    <tr>\n",
              "      <th>23</th>\n",
              "      <td>24º</td>\n",
              "      <td>24 BPM</td>\n",
              "      <td>187</td>\n",
              "      <td>164</td>\n",
              "      <td>198</td>\n",
              "      <td>183</td>\n",
              "      <td>200</td>\n",
              "      <td>237</td>\n",
              "      <td>209</td>\n",
              "      <td>268</td>\n",
              "      <td>223</td>\n",
              "      <td>247</td>\n",
              "      <td>109</td>\n",
              "      <td>0</td>\n",
              "      <td>2225</td>\n",
              "    </tr>\n",
              "    <tr>\n",
              "      <th>24</th>\n",
              "      <td>25º</td>\n",
              "      <td>5 BPM</td>\n",
              "      <td>244</td>\n",
              "      <td>196</td>\n",
              "      <td>171</td>\n",
              "      <td>216</td>\n",
              "      <td>214</td>\n",
              "      <td>197</td>\n",
              "      <td>193</td>\n",
              "      <td>200</td>\n",
              "      <td>175</td>\n",
              "      <td>203</td>\n",
              "      <td>93</td>\n",
              "      <td>0</td>\n",
              "      <td>2102</td>\n",
              "    </tr>\n",
              "    <tr>\n",
              "      <th>26</th>\n",
              "      <td>27º</td>\n",
              "      <td>6 BPM</td>\n",
              "      <td>128</td>\n",
              "      <td>104</td>\n",
              "      <td>114</td>\n",
              "      <td>134</td>\n",
              "      <td>147</td>\n",
              "      <td>152</td>\n",
              "      <td>215</td>\n",
              "      <td>215</td>\n",
              "      <td>187</td>\n",
              "      <td>235</td>\n",
              "      <td>144</td>\n",
              "      <td>0</td>\n",
              "      <td>1775</td>\n",
              "    </tr>\n",
              "  </tbody>\n",
              "</table>\n",
              "</div>"
            ],
            "text/plain": [
              "   ordem     UPM   01   02   03   04  ...    08    09    10   11  12  TOTAL\n",
              "0     1º  14 BPM  944  981  982  985  ...  1093  1072  1181  530   0  10690\n",
              "1     2º  26 BPM  885  831  943  887  ...   907   887   943  507   0   9497\n",
              "2     3º   2 BPM  926  709  660  676  ...  1634   771   859  456   0   9301\n",
              "3     4º   9 BPM  830  765  874  839  ...   819   843   893  432   0   8876\n",
              "4     5º  27 BPM  767  709  725  752  ...   799   837   978  422   0   8316\n",
              "5     6º  21 BPM  674  724  717  777  ...   702   711   808  475   0   8050\n",
              "6     7º   8 BPM  812  740  688  759  ...   691   656   884  411   0   7765\n",
              "7     8º  13 BPM  755  741  732  753  ...   580   604   737  279   0   7396\n",
              "8     9º  10 BPM  730  676  695  688  ...   618   713   780  275   0   7130\n",
              "9    10º  20 BPM  563  610  527  579  ...   632   662   693  341   0   6631\n",
              "10   11º  17 BPM  589  573  519  518  ...   619   634   629  404   0   6136\n",
              "11   12º   3 BPM  534  521  647  499  ...   623   539   702  405   0   5989\n",
              "12   13º  15 BPM  479  484  508  487  ...   841   595   618  323   0   5702\n",
              "13   14º  11 BPM  660  580  485  455  ...   446   481   565  285   0   5388\n",
              "14   15º  28 BPM  554  495  499  450  ...   523   440   513  236   0   5235\n",
              "16   17º   4 BPM  467  458  413  421  ...   497   442   526  242   0   4951\n",
              "17   18º   1 BPM  474  429  546  397  ...   507   482   570  221   0   4879\n",
              "19   20º  16 BPM  314  273  346  332  ...   380   385   454  254   0   3825\n",
              "21   22º  25 BPM  347  284  279  260  ...   375   342   484  239   0   3729\n",
              "22   23º   7 BPM  326  289  286  312  ...   303   270   301  196   0   3262\n",
              "23   24º  24 BPM  187  164  198  183  ...   268   223   247  109   0   2225\n",
              "24   25º   5 BPM  244  196  171  216  ...   200   175   203   93   0   2102\n",
              "26   27º   6 BPM  128  104  114  134  ...   215   187   235  144   0   1775\n",
              "\n",
              "[23 rows x 15 columns]"
            ]
          },
          "metadata": {},
          "execution_count": 187
        }
      ]
    },
    {
      "cell_type": "code",
      "metadata": {
        "id": "NEuZKwW5UFfg"
      },
      "source": [
        "mes = '02'\n",
        "unidade = '8 BPM'"
      ],
      "execution_count": 167,
      "outputs": []
    },
    {
      "cell_type": "code",
      "metadata": {
        "colab": {
          "base_uri": "https://localhost:8080/"
        },
        "id": "mwVxKt5LUkBx",
        "outputId": "5a363434-b724-4cbb-ccc5-4efb297c3057"
      },
      "source": [
        "ocorrencias.query('UPM == \"' + unidade + '\"')[mes].iloc[0]"
      ],
      "execution_count": 184,
      "outputs": [
        {
          "output_type": "execute_result",
          "data": {
            "text/plain": [
              "740"
            ]
          },
          "metadata": {},
          "execution_count": 184
        }
      ]
    },
    {
      "cell_type": "code",
      "metadata": {
        "id": "dS_X48nFVTJa"
      },
      "source": [
        "vtr_unidade['ocorrencias'] = vtr_unidade['mes-unidade'].apply(lambda x: buscaOcorrencia(x))"
      ],
      "execution_count": 189,
      "outputs": []
    },
    {
      "cell_type": "code",
      "metadata": {
        "colab": {
          "base_uri": "https://localhost:8080/",
          "height": 423
        },
        "id": "thgUnrBOWXdz",
        "outputId": "3dc51dfc-66c5-4cf0-d595-9d2d45cf6857"
      },
      "source": [
        "vtr_unidade"
      ],
      "execution_count": 190,
      "outputs": [
        {
          "output_type": "execute_result",
          "data": {
            "text/html": [
              "<div>\n",
              "<style scoped>\n",
              "    .dataframe tbody tr th:only-of-type {\n",
              "        vertical-align: middle;\n",
              "    }\n",
              "\n",
              "    .dataframe tbody tr th {\n",
              "        vertical-align: top;\n",
              "    }\n",
              "\n",
              "    .dataframe thead th {\n",
              "        text-align: right;\n",
              "    }\n",
              "</style>\n",
              "<table border=\"1\" class=\"dataframe\">\n",
              "  <thead>\n",
              "    <tr style=\"text-align: right;\">\n",
              "      <th></th>\n",
              "      <th>unidade</th>\n",
              "      <th>mes</th>\n",
              "      <th>qtd_vtr</th>\n",
              "      <th>mes-unidade</th>\n",
              "      <th>ocorrencias</th>\n",
              "    </tr>\n",
              "  </thead>\n",
              "  <tbody>\n",
              "    <tr>\n",
              "      <th>0</th>\n",
              "      <td>8 BPM</td>\n",
              "      <td>01</td>\n",
              "      <td>22</td>\n",
              "      <td>018 BPM</td>\n",
              "      <td>812</td>\n",
              "    </tr>\n",
              "    <tr>\n",
              "      <th>1</th>\n",
              "      <td>8 BPM</td>\n",
              "      <td>02</td>\n",
              "      <td>23</td>\n",
              "      <td>028 BPM</td>\n",
              "      <td>740</td>\n",
              "    </tr>\n",
              "    <tr>\n",
              "      <th>2</th>\n",
              "      <td>8 BPM</td>\n",
              "      <td>03</td>\n",
              "      <td>21</td>\n",
              "      <td>038 BPM</td>\n",
              "      <td>688</td>\n",
              "    </tr>\n",
              "    <tr>\n",
              "      <th>3</th>\n",
              "      <td>8 BPM</td>\n",
              "      <td>04</td>\n",
              "      <td>23</td>\n",
              "      <td>048 BPM</td>\n",
              "      <td>759</td>\n",
              "    </tr>\n",
              "    <tr>\n",
              "      <th>4</th>\n",
              "      <td>8 BPM</td>\n",
              "      <td>05</td>\n",
              "      <td>23</td>\n",
              "      <td>058 BPM</td>\n",
              "      <td>719</td>\n",
              "    </tr>\n",
              "    <tr>\n",
              "      <th>...</th>\n",
              "      <td>...</td>\n",
              "      <td>...</td>\n",
              "      <td>...</td>\n",
              "      <td>...</td>\n",
              "      <td>...</td>\n",
              "    </tr>\n",
              "    <tr>\n",
              "      <th>202</th>\n",
              "      <td>1 BPM</td>\n",
              "      <td>05</td>\n",
              "      <td>22</td>\n",
              "      <td>051 BPM</td>\n",
              "      <td>422</td>\n",
              "    </tr>\n",
              "    <tr>\n",
              "      <th>203</th>\n",
              "      <td>1 BPM</td>\n",
              "      <td>06</td>\n",
              "      <td>21</td>\n",
              "      <td>061 BPM</td>\n",
              "      <td>349</td>\n",
              "    </tr>\n",
              "    <tr>\n",
              "      <th>204</th>\n",
              "      <td>1 BPM</td>\n",
              "      <td>07</td>\n",
              "      <td>22</td>\n",
              "      <td>071 BPM</td>\n",
              "      <td>482</td>\n",
              "    </tr>\n",
              "    <tr>\n",
              "      <th>205</th>\n",
              "      <td>1 BPM</td>\n",
              "      <td>08</td>\n",
              "      <td>23</td>\n",
              "      <td>081 BPM</td>\n",
              "      <td>507</td>\n",
              "    </tr>\n",
              "    <tr>\n",
              "      <th>206</th>\n",
              "      <td>1 BPM</td>\n",
              "      <td>09</td>\n",
              "      <td>24</td>\n",
              "      <td>091 BPM</td>\n",
              "      <td>482</td>\n",
              "    </tr>\n",
              "  </tbody>\n",
              "</table>\n",
              "<p>207 rows × 5 columns</p>\n",
              "</div>"
            ],
            "text/plain": [
              "    unidade mes  qtd_vtr mes-unidade  ocorrencias\n",
              "0     8 BPM  01       22     018 BPM          812\n",
              "1     8 BPM  02       23     028 BPM          740\n",
              "2     8 BPM  03       21     038 BPM          688\n",
              "3     8 BPM  04       23     048 BPM          759\n",
              "4     8 BPM  05       23     058 BPM          719\n",
              "..      ...  ..      ...         ...          ...\n",
              "202   1 BPM  05       22     051 BPM          422\n",
              "203   1 BPM  06       21     061 BPM          349\n",
              "204   1 BPM  07       22     071 BPM          482\n",
              "205   1 BPM  08       23     081 BPM          507\n",
              "206   1 BPM  09       24     091 BPM          482\n",
              "\n",
              "[207 rows x 5 columns]"
            ]
          },
          "metadata": {},
          "execution_count": 190
        }
      ]
    },
    {
      "cell_type": "code",
      "metadata": {
        "id": "DXyoHRulWfY7"
      },
      "source": [
        "grupo_mes = vtr_unidade.groupby('mes')\n",
        "grupo_unidade = vtr_unidade.groupby('unidade')"
      ],
      "execution_count": 195,
      "outputs": []
    },
    {
      "cell_type": "code",
      "metadata": {
        "colab": {
          "base_uri": "https://localhost:8080/",
          "height": 331
        },
        "id": "lFhdp1W1WxuJ",
        "outputId": "708569f7-1fb0-45a5-a0f6-3f4de344a45d"
      },
      "source": [
        "grupo_unidade.get_group('8 BPM')"
      ],
      "execution_count": 196,
      "outputs": [
        {
          "output_type": "execute_result",
          "data": {
            "text/html": [
              "<div>\n",
              "<style scoped>\n",
              "    .dataframe tbody tr th:only-of-type {\n",
              "        vertical-align: middle;\n",
              "    }\n",
              "\n",
              "    .dataframe tbody tr th {\n",
              "        vertical-align: top;\n",
              "    }\n",
              "\n",
              "    .dataframe thead th {\n",
              "        text-align: right;\n",
              "    }\n",
              "</style>\n",
              "<table border=\"1\" class=\"dataframe\">\n",
              "  <thead>\n",
              "    <tr style=\"text-align: right;\">\n",
              "      <th></th>\n",
              "      <th>unidade</th>\n",
              "      <th>mes</th>\n",
              "      <th>qtd_vtr</th>\n",
              "      <th>mes-unidade</th>\n",
              "      <th>ocorrencias</th>\n",
              "    </tr>\n",
              "  </thead>\n",
              "  <tbody>\n",
              "    <tr>\n",
              "      <th>0</th>\n",
              "      <td>8 BPM</td>\n",
              "      <td>01</td>\n",
              "      <td>22</td>\n",
              "      <td>018 BPM</td>\n",
              "      <td>812</td>\n",
              "    </tr>\n",
              "    <tr>\n",
              "      <th>1</th>\n",
              "      <td>8 BPM</td>\n",
              "      <td>02</td>\n",
              "      <td>23</td>\n",
              "      <td>028 BPM</td>\n",
              "      <td>740</td>\n",
              "    </tr>\n",
              "    <tr>\n",
              "      <th>2</th>\n",
              "      <td>8 BPM</td>\n",
              "      <td>03</td>\n",
              "      <td>21</td>\n",
              "      <td>038 BPM</td>\n",
              "      <td>688</td>\n",
              "    </tr>\n",
              "    <tr>\n",
              "      <th>3</th>\n",
              "      <td>8 BPM</td>\n",
              "      <td>04</td>\n",
              "      <td>23</td>\n",
              "      <td>048 BPM</td>\n",
              "      <td>759</td>\n",
              "    </tr>\n",
              "    <tr>\n",
              "      <th>4</th>\n",
              "      <td>8 BPM</td>\n",
              "      <td>05</td>\n",
              "      <td>23</td>\n",
              "      <td>058 BPM</td>\n",
              "      <td>719</td>\n",
              "    </tr>\n",
              "    <tr>\n",
              "      <th>5</th>\n",
              "      <td>8 BPM</td>\n",
              "      <td>06</td>\n",
              "      <td>23</td>\n",
              "      <td>068 BPM</td>\n",
              "      <td>638</td>\n",
              "    </tr>\n",
              "    <tr>\n",
              "      <th>6</th>\n",
              "      <td>8 BPM</td>\n",
              "      <td>07</td>\n",
              "      <td>24</td>\n",
              "      <td>078 BPM</td>\n",
              "      <td>767</td>\n",
              "    </tr>\n",
              "    <tr>\n",
              "      <th>7</th>\n",
              "      <td>8 BPM</td>\n",
              "      <td>08</td>\n",
              "      <td>25</td>\n",
              "      <td>088 BPM</td>\n",
              "      <td>691</td>\n",
              "    </tr>\n",
              "    <tr>\n",
              "      <th>8</th>\n",
              "      <td>8 BPM</td>\n",
              "      <td>09</td>\n",
              "      <td>24</td>\n",
              "      <td>098 BPM</td>\n",
              "      <td>656</td>\n",
              "    </tr>\n",
              "  </tbody>\n",
              "</table>\n",
              "</div>"
            ],
            "text/plain": [
              "  unidade mes  qtd_vtr mes-unidade  ocorrencias\n",
              "0   8 BPM  01       22     018 BPM          812\n",
              "1   8 BPM  02       23     028 BPM          740\n",
              "2   8 BPM  03       21     038 BPM          688\n",
              "3   8 BPM  04       23     048 BPM          759\n",
              "4   8 BPM  05       23     058 BPM          719\n",
              "5   8 BPM  06       23     068 BPM          638\n",
              "6   8 BPM  07       24     078 BPM          767\n",
              "7   8 BPM  08       25     088 BPM          691\n",
              "8   8 BPM  09       24     098 BPM          656"
            ]
          },
          "metadata": {},
          "execution_count": 196
        }
      ]
    },
    {
      "cell_type": "code",
      "metadata": {
        "colab": {
          "base_uri": "https://localhost:8080/",
          "height": 320
        },
        "id": "0ZC_WouhXLRi",
        "outputId": "0bbf9b3e-352a-45e0-91cd-04f4383f2091"
      },
      "source": [
        "plt.figure(figsize=(15,5))\n",
        "ax = plt.subplot()\n",
        "\n",
        "for upm in unidades[:5]:\n",
        "  # labelMes = grupo_unidade.get_group(upm)['mes']\n",
        "  # labelOcorrencia = grupo_unidade.get_group(upm)['ocorrencias']\n",
        "  # ax.plot(labelMes, labelOcorrencia, label=upm)\n",
        "\n",
        "  labelMes = grupo_unidade.get_group(upm)['mes']\n",
        "  labelViatura = grupo_unidade.get_group(upm)['qtd_vtr']\n",
        "  ax.plot(labelMes, labelViatura, label=upm)\n",
        "\n",
        "ax.grid()\n",
        "ax.legend()\n",
        "ax = ax"
      ],
      "execution_count": 212,
      "outputs": [
        {
          "output_type": "display_data",
          "data": {
            "image/png": "[encoded data removed]",
            "text/plain": [
              "<Figure size 1080x360 with 1 Axes>"
            ]
          },
          "metadata": {
            "needs_background": "light"
          }
        }
      ]
    },
    {
      "cell_type": "code",
      "metadata": {
        "id": "uTGBg9s8Yltp"
      },
      "source": [
        ""
      ],
      "execution_count": null,
      "outputs": []
    },
    {
      "cell_type": "markdown",
      "metadata": {
        "id": "l0oTebEqblpp"
      },
      "source": [
        "# Exemplo ML\n"
      ]
    },
    {
      "cell_type": "code",
      "metadata": {
        "colab": {
          "base_uri": "https://localhost:8080/",
          "height": 423
        },
        "id": "alQCPe8XboCQ",
        "outputId": "0fcccca5-d3b4-4170-c75f-e2f426dafa2b"
      },
      "source": [
        "vtr_unidade[['unidade', 'mes', 'qtd_vtr']]"
      ],
      "execution_count": 215,
      "outputs": [
        {
          "output_type": "execute_result",
          "data": {
            "text/html": [
              "<div>\n",
              "<style scoped>\n",
              "    .dataframe tbody tr th:only-of-type {\n",
              "        vertical-align: middle;\n",
              "    }\n",
              "\n",
              "    .dataframe tbody tr th {\n",
              "        vertical-align: top;\n",
              "    }\n",
              "\n",
              "    .dataframe thead th {\n",
              "        text-align: right;\n",
              "    }\n",
              "</style>\n",
              "<table border=\"1\" class=\"dataframe\">\n",
              "  <thead>\n",
              "    <tr style=\"text-align: right;\">\n",
              "      <th></th>\n",
              "      <th>unidade</th>\n",
              "      <th>mes</th>\n",
              "      <th>qtd_vtr</th>\n",
              "    </tr>\n",
              "  </thead>\n",
              "  <tbody>\n",
              "    <tr>\n",
              "      <th>0</th>\n",
              "      <td>8 BPM</td>\n",
              "      <td>01</td>\n",
              "      <td>22</td>\n",
              "    </tr>\n",
              "    <tr>\n",
              "      <th>1</th>\n",
              "      <td>8 BPM</td>\n",
              "      <td>02</td>\n",
              "      <td>23</td>\n",
              "    </tr>\n",
              "    <tr>\n",
              "      <th>2</th>\n",
              "      <td>8 BPM</td>\n",
              "      <td>03</td>\n",
              "      <td>21</td>\n",
              "    </tr>\n",
              "    <tr>\n",
              "      <th>3</th>\n",
              "      <td>8 BPM</td>\n",
              "      <td>04</td>\n",
              "      <td>23</td>\n",
              "    </tr>\n",
              "    <tr>\n",
              "      <th>4</th>\n",
              "      <td>8 BPM</td>\n",
              "      <td>05</td>\n",
              "      <td>23</td>\n",
              "    </tr>\n",
              "    <tr>\n",
              "      <th>...</th>\n",
              "      <td>...</td>\n",
              "      <td>...</td>\n",
              "      <td>...</td>\n",
              "    </tr>\n",
              "    <tr>\n",
              "      <th>202</th>\n",
              "      <td>1 BPM</td>\n",
              "      <td>05</td>\n",
              "      <td>22</td>\n",
              "    </tr>\n",
              "    <tr>\n",
              "      <th>203</th>\n",
              "      <td>1 BPM</td>\n",
              "      <td>06</td>\n",
              "      <td>21</td>\n",
              "    </tr>\n",
              "    <tr>\n",
              "      <th>204</th>\n",
              "      <td>1 BPM</td>\n",
              "      <td>07</td>\n",
              "      <td>22</td>\n",
              "    </tr>\n",
              "    <tr>\n",
              "      <th>205</th>\n",
              "      <td>1 BPM</td>\n",
              "      <td>08</td>\n",
              "      <td>23</td>\n",
              "    </tr>\n",
              "    <tr>\n",
              "      <th>206</th>\n",
              "      <td>1 BPM</td>\n",
              "      <td>09</td>\n",
              "      <td>24</td>\n",
              "    </tr>\n",
              "  </tbody>\n",
              "</table>\n",
              "<p>207 rows × 3 columns</p>\n",
              "</div>"
            ],
            "text/plain": [
              "    unidade mes  qtd_vtr\n",
              "0     8 BPM  01       22\n",
              "1     8 BPM  02       23\n",
              "2     8 BPM  03       21\n",
              "3     8 BPM  04       23\n",
              "4     8 BPM  05       23\n",
              "..      ...  ..      ...\n",
              "202   1 BPM  05       22\n",
              "203   1 BPM  06       21\n",
              "204   1 BPM  07       22\n",
              "205   1 BPM  08       23\n",
              "206   1 BPM  09       24\n",
              "\n",
              "[207 rows x 3 columns]"
            ]
          },
          "metadata": {},
          "execution_count": 215
        }
      ]
    },
    {
      "cell_type": "code",
      "metadata": {
        "id": "sI6Q6XcfbpZC"
      },
      "source": [
        "X = vtr_unidade[['unidade', 'mes', 'qtd_vtr']]\n",
        "y = vtr_unidade['ocorrencias']"
      ],
      "execution_count": 216,
      "outputs": []
    },
    {
      "cell_type": "code",
      "metadata": {
        "colab": {
          "base_uri": "https://localhost:8080/",
          "height": 441
        },
        "id": "kBn9wKmgb5h1",
        "outputId": "1fe6b9f8-4f19-4567-99bf-a608ae150acd"
      },
      "source": [
        "pd.get_dummies(X['unidade'])"
      ],
      "execution_count": 220,
      "outputs": [
        {
          "output_type": "execute_result",
          "data": {
            "text/html": [
              "<div>\n",
              "<style scoped>\n",
              "    .dataframe tbody tr th:only-of-type {\n",
              "        vertical-align: middle;\n",
              "    }\n",
              "\n",
              "    .dataframe tbody tr th {\n",
              "        vertical-align: top;\n",
              "    }\n",
              "\n",
              "    .dataframe thead th {\n",
              "        text-align: right;\n",
              "    }\n",
              "</style>\n",
              "<table border=\"1\" class=\"dataframe\">\n",
              "  <thead>\n",
              "    <tr style=\"text-align: right;\">\n",
              "      <th></th>\n",
              "      <th>1 BPM</th>\n",
              "      <th>10 BPM</th>\n",
              "      <th>11 BPM</th>\n",
              "      <th>13 BPM</th>\n",
              "      <th>14 BPM</th>\n",
              "      <th>15 BPM</th>\n",
              "      <th>16 BPM</th>\n",
              "      <th>17 BPM</th>\n",
              "      <th>2 BPM</th>\n",
              "      <th>20 BPM</th>\n",
              "      <th>21 BPM</th>\n",
              "      <th>24 BPM</th>\n",
              "      <th>25 BPM</th>\n",
              "      <th>26 BPM</th>\n",
              "      <th>27 BPM</th>\n",
              "      <th>28 BPM</th>\n",
              "      <th>3 BPM</th>\n",
              "      <th>4 BPM</th>\n",
              "      <th>5 BPM</th>\n",
              "      <th>6 BPM</th>\n",
              "      <th>7 BPM</th>\n",
              "      <th>8 BPM</th>\n",
              "      <th>9 BPM</th>\n",
              "    </tr>\n",
              "  </thead>\n",
              "  <tbody>\n",
              "    <tr>\n",
              "      <th>0</th>\n",
              "      <td>0</td>\n",
              "      <td>0</td>\n",
              "      <td>0</td>\n",
              "      <td>0</td>\n",
              "      <td>0</td>\n",
              "      <td>0</td>\n",
              "      <td>0</td>\n",
              "      <td>0</td>\n",
              "      <td>0</td>\n",
              "      <td>0</td>\n",
              "      <td>0</td>\n",
              "      <td>0</td>\n",
              "      <td>0</td>\n",
              "      <td>0</td>\n",
              "      <td>0</td>\n",
              "      <td>0</td>\n",
              "      <td>0</td>\n",
              "      <td>0</td>\n",
              "      <td>0</td>\n",
              "      <td>0</td>\n",
              "      <td>0</td>\n",
              "      <td>1</td>\n",
              "      <td>0</td>\n",
              "    </tr>\n",
              "    <tr>\n",
              "      <th>1</th>\n",
              "      <td>0</td>\n",
              "      <td>0</td>\n",
              "      <td>0</td>\n",
              "      <td>0</td>\n",
              "      <td>0</td>\n",
              "      <td>0</td>\n",
              "      <td>0</td>\n",
              "      <td>0</td>\n",
              "      <td>0</td>\n",
              "      <td>0</td>\n",
              "      <td>0</td>\n",
              "      <td>0</td>\n",
              "      <td>0</td>\n",
              "      <td>0</td>\n",
              "      <td>0</td>\n",
              "      <td>0</td>\n",
              "      <td>0</td>\n",
              "      <td>0</td>\n",
              "      <td>0</td>\n",
              "      <td>0</td>\n",
              "      <td>0</td>\n",
              "      <td>1</td>\n",
              "      <td>0</td>\n",
              "    </tr>\n",
              "    <tr>\n",
              "      <th>2</th>\n",
              "      <td>0</td>\n",
              "      <td>0</td>\n",
              "      <td>0</td>\n",
              "      <td>0</td>\n",
              "      <td>0</td>\n",
              "      <td>0</td>\n",
              "      <td>0</td>\n",
              "      <td>0</td>\n",
              "      <td>0</td>\n",
              "      <td>0</td>\n",
              "      <td>0</td>\n",
              "      <td>0</td>\n",
              "      <td>0</td>\n",
              "      <td>0</td>\n",
              "      <td>0</td>\n",
              "      <td>0</td>\n",
              "      <td>0</td>\n",
              "      <td>0</td>\n",
              "      <td>0</td>\n",
              "      <td>0</td>\n",
              "      <td>0</td>\n",
              "      <td>1</td>\n",
              "      <td>0</td>\n",
              "    </tr>\n",
              "    <tr>\n",
              "      <th>3</th>\n",
              "      <td>0</td>\n",
              "      <td>0</td>\n",
              "      <td>0</td>\n",
              "      <td>0</td>\n",
              "      <td>0</td>\n",
              "      <td>0</td>\n",
              "      <td>0</td>\n",
              "      <td>0</td>\n",
              "      <td>0</td>\n",
              "      <td>0</td>\n",
              "      <td>0</td>\n",
              "      <td>0</td>\n",
              "      <td>0</td>\n",
              "      <td>0</td>\n",
              "      <td>0</td>\n",
              "      <td>0</td>\n",
              "      <td>0</td>\n",
              "      <td>0</td>\n",
              "      <td>0</td>\n",
              "      <td>0</td>\n",
              "      <td>0</td>\n",
              "      <td>1</td>\n",
              "      <td>0</td>\n",
              "    </tr>\n",
              "    <tr>\n",
              "      <th>4</th>\n",
              "      <td>0</td>\n",
              "      <td>0</td>\n",
              "      <td>0</td>\n",
              "      <td>0</td>\n",
              "      <td>0</td>\n",
              "      <td>0</td>\n",
              "      <td>0</td>\n",
              "      <td>0</td>\n",
              "      <td>0</td>\n",
              "      <td>0</td>\n",
              "      <td>0</td>\n",
              "      <td>0</td>\n",
              "      <td>0</td>\n",
              "      <td>0</td>\n",
              "      <td>0</td>\n",
              "      <td>0</td>\n",
              "      <td>0</td>\n",
              "      <td>0</td>\n",
              "      <td>0</td>\n",
              "      <td>0</td>\n",
              "      <td>0</td>\n",
              "      <td>1</td>\n",
              "      <td>0</td>\n",
              "    </tr>\n",
              "    <tr>\n",
              "      <th>...</th>\n",
              "      <td>...</td>\n",
              "      <td>...</td>\n",
              "      <td>...</td>\n",
              "      <td>...</td>\n",
              "      <td>...</td>\n",
              "      <td>...</td>\n",
              "      <td>...</td>\n",
              "      <td>...</td>\n",
              "      <td>...</td>\n",
              "      <td>...</td>\n",
              "      <td>...</td>\n",
              "      <td>...</td>\n",
              "      <td>...</td>\n",
              "      <td>...</td>\n",
              "      <td>...</td>\n",
              "      <td>...</td>\n",
              "      <td>...</td>\n",
              "      <td>...</td>\n",
              "      <td>...</td>\n",
              "      <td>...</td>\n",
              "      <td>...</td>\n",
              "      <td>...</td>\n",
              "      <td>...</td>\n",
              "    </tr>\n",
              "    <tr>\n",
              "      <th>202</th>\n",
              "      <td>1</td>\n",
              "      <td>0</td>\n",
              "      <td>0</td>\n",
              "      <td>0</td>\n",
              "      <td>0</td>\n",
              "      <td>0</td>\n",
              "      <td>0</td>\n",
              "      <td>0</td>\n",
              "      <td>0</td>\n",
              "      <td>0</td>\n",
              "      <td>0</td>\n",
              "      <td>0</td>\n",
              "      <td>0</td>\n",
              "      <td>0</td>\n",
              "      <td>0</td>\n",
              "      <td>0</td>\n",
              "      <td>0</td>\n",
              "      <td>0</td>\n",
              "      <td>0</td>\n",
              "      <td>0</td>\n",
              "      <td>0</td>\n",
              "      <td>0</td>\n",
              "      <td>0</td>\n",
              "    </tr>\n",
              "    <tr>\n",
              "      <th>203</th>\n",
              "      <td>1</td>\n",
              "      <td>0</td>\n",
              "      <td>0</td>\n",
              "      <td>0</td>\n",
              "      <td>0</td>\n",
              "      <td>0</td>\n",
              "      <td>0</td>\n",
              "      <td>0</td>\n",
              "      <td>0</td>\n",
              "      <td>0</td>\n",
              "      <td>0</td>\n",
              "      <td>0</td>\n",
              "      <td>0</td>\n",
              "      <td>0</td>\n",
              "      <td>0</td>\n",
              "      <td>0</td>\n",
              "      <td>0</td>\n",
              "      <td>0</td>\n",
              "      <td>0</td>\n",
              "      <td>0</td>\n",
              "      <td>0</td>\n",
              "      <td>0</td>\n",
              "      <td>0</td>\n",
              "    </tr>\n",
              "    <tr>\n",
              "      <th>204</th>\n",
              "      <td>1</td>\n",
              "      <td>0</td>\n",
              "      <td>0</td>\n",
              "      <td>0</td>\n",
              "      <td>0</td>\n",
              "      <td>0</td>\n",
              "      <td>0</td>\n",
              "      <td>0</td>\n",
              "      <td>0</td>\n",
              "      <td>0</td>\n",
              "      <td>0</td>\n",
              "      <td>0</td>\n",
              "      <td>0</td>\n",
              "      <td>0</td>\n",
              "      <td>0</td>\n",
              "      <td>0</td>\n",
              "      <td>0</td>\n",
              "      <td>0</td>\n",
              "      <td>0</td>\n",
              "      <td>0</td>\n",
              "      <td>0</td>\n",
              "      <td>0</td>\n",
              "      <td>0</td>\n",
              "    </tr>\n",
              "    <tr>\n",
              "      <th>205</th>\n",
              "      <td>1</td>\n",
              "      <td>0</td>\n",
              "      <td>0</td>\n",
              "      <td>0</td>\n",
              "      <td>0</td>\n",
              "      <td>0</td>\n",
              "      <td>0</td>\n",
              "      <td>0</td>\n",
              "      <td>0</td>\n",
              "      <td>0</td>\n",
              "      <td>0</td>\n",
              "      <td>0</td>\n",
              "      <td>0</td>\n",
              "      <td>0</td>\n",
              "      <td>0</td>\n",
              "      <td>0</td>\n",
              "      <td>0</td>\n",
              "      <td>0</td>\n",
              "      <td>0</td>\n",
              "      <td>0</td>\n",
              "      <td>0</td>\n",
              "      <td>0</td>\n",
              "      <td>0</td>\n",
              "    </tr>\n",
              "    <tr>\n",
              "      <th>206</th>\n",
              "      <td>1</td>\n",
              "      <td>0</td>\n",
              "      <td>0</td>\n",
              "      <td>0</td>\n",
              "      <td>0</td>\n",
              "      <td>0</td>\n",
              "      <td>0</td>\n",
              "      <td>0</td>\n",
              "      <td>0</td>\n",
              "      <td>0</td>\n",
              "      <td>0</td>\n",
              "      <td>0</td>\n",
              "      <td>0</td>\n",
              "      <td>0</td>\n",
              "      <td>0</td>\n",
              "      <td>0</td>\n",
              "      <td>0</td>\n",
              "      <td>0</td>\n",
              "      <td>0</td>\n",
              "      <td>0</td>\n",
              "      <td>0</td>\n",
              "      <td>0</td>\n",
              "      <td>0</td>\n",
              "    </tr>\n",
              "  </tbody>\n",
              "</table>\n",
              "<p>207 rows × 23 columns</p>\n",
              "</div>"
            ],
            "text/plain": [
              "     1 BPM  10 BPM  11 BPM  13 BPM  14 BPM  ...  5 BPM  6 BPM  7 BPM  8 BPM  9 BPM\n",
              "0        0       0       0       0       0  ...      0      0      0      1      0\n",
              "1        0       0       0       0       0  ...      0      0      0      1      0\n",
              "2        0       0       0       0       0  ...      0      0      0      1      0\n",
              "3        0       0       0       0       0  ...      0      0      0      1      0\n",
              "4        0       0       0       0       0  ...      0      0      0      1      0\n",
              "..     ...     ...     ...     ...     ...  ...    ...    ...    ...    ...    ...\n",
              "202      1       0       0       0       0  ...      0      0      0      0      0\n",
              "203      1       0       0       0       0  ...      0      0      0      0      0\n",
              "204      1       0       0       0       0  ...      0      0      0      0      0\n",
              "205      1       0       0       0       0  ...      0      0      0      0      0\n",
              "206      1       0       0       0       0  ...      0      0      0      0      0\n",
              "\n",
              "[207 rows x 23 columns]"
            ]
          },
          "metadata": {},
          "execution_count": 220
        }
      ]
    },
    {
      "cell_type": "code",
      "metadata": {
        "id": "wpQLbOUUcAXN"
      },
      "source": [
        "X = pd.concat([vtr_unidade, pd.get_dummies(vtr_unidade['unidade'])], axis = 1)"
      ],
      "execution_count": 224,
      "outputs": []
    },
    {
      "cell_type": "code",
      "metadata": {
        "id": "kmz9m0Axcmw9"
      },
      "source": [
        "X = X.drop(['unidade','mes-unidade', 'ocorrencias'] , axis=1)"
      ],
      "execution_count": 230,
      "outputs": []
    },
    {
      "cell_type": "code",
      "metadata": {
        "colab": {
          "base_uri": "https://localhost:8080/",
          "height": 129
        },
        "id": "oJ2KHLHfdFIv",
        "outputId": "0dc96a39-de0c-4c42-f832-ded5549f1533"
      },
      "source": [
        "X.head(2)"
      ],
      "execution_count": 231,
      "outputs": [
        {
          "output_type": "execute_result",
          "data": {
            "text/html": [
              "<div>\n",
              "<style scoped>\n",
              "    .dataframe tbody tr th:only-of-type {\n",
              "        vertical-align: middle;\n",
              "    }\n",
              "\n",
              "    .dataframe tbody tr th {\n",
              "        vertical-align: top;\n",
              "    }\n",
              "\n",
              "    .dataframe thead th {\n",
              "        text-align: right;\n",
              "    }\n",
              "</style>\n",
              "<table border=\"1\" class=\"dataframe\">\n",
              "  <thead>\n",
              "    <tr style=\"text-align: right;\">\n",
              "      <th></th>\n",
              "      <th>mes</th>\n",
              "      <th>qtd_vtr</th>\n",
              "      <th>1 BPM</th>\n",
              "      <th>10 BPM</th>\n",
              "      <th>11 BPM</th>\n",
              "      <th>13 BPM</th>\n",
              "      <th>14 BPM</th>\n",
              "      <th>15 BPM</th>\n",
              "      <th>16 BPM</th>\n",
              "      <th>17 BPM</th>\n",
              "      <th>2 BPM</th>\n",
              "      <th>20 BPM</th>\n",
              "      <th>21 BPM</th>\n",
              "      <th>24 BPM</th>\n",
              "      <th>25 BPM</th>\n",
              "      <th>26 BPM</th>\n",
              "      <th>27 BPM</th>\n",
              "      <th>28 BPM</th>\n",
              "      <th>3 BPM</th>\n",
              "      <th>4 BPM</th>\n",
              "      <th>5 BPM</th>\n",
              "      <th>6 BPM</th>\n",
              "      <th>7 BPM</th>\n",
              "      <th>8 BPM</th>\n",
              "      <th>9 BPM</th>\n",
              "    </tr>\n",
              "  </thead>\n",
              "  <tbody>\n",
              "    <tr>\n",
              "      <th>0</th>\n",
              "      <td>01</td>\n",
              "      <td>22</td>\n",
              "      <td>0</td>\n",
              "      <td>0</td>\n",
              "      <td>0</td>\n",
              "      <td>0</td>\n",
              "      <td>0</td>\n",
              "      <td>0</td>\n",
              "      <td>0</td>\n",
              "      <td>0</td>\n",
              "      <td>0</td>\n",
              "      <td>0</td>\n",
              "      <td>0</td>\n",
              "      <td>0</td>\n",
              "      <td>0</td>\n",
              "      <td>0</td>\n",
              "      <td>0</td>\n",
              "      <td>0</td>\n",
              "      <td>0</td>\n",
              "      <td>0</td>\n",
              "      <td>0</td>\n",
              "      <td>0</td>\n",
              "      <td>0</td>\n",
              "      <td>1</td>\n",
              "      <td>0</td>\n",
              "    </tr>\n",
              "    <tr>\n",
              "      <th>1</th>\n",
              "      <td>02</td>\n",
              "      <td>23</td>\n",
              "      <td>0</td>\n",
              "      <td>0</td>\n",
              "      <td>0</td>\n",
              "      <td>0</td>\n",
              "      <td>0</td>\n",
              "      <td>0</td>\n",
              "      <td>0</td>\n",
              "      <td>0</td>\n",
              "      <td>0</td>\n",
              "      <td>0</td>\n",
              "      <td>0</td>\n",
              "      <td>0</td>\n",
              "      <td>0</td>\n",
              "      <td>0</td>\n",
              "      <td>0</td>\n",
              "      <td>0</td>\n",
              "      <td>0</td>\n",
              "      <td>0</td>\n",
              "      <td>0</td>\n",
              "      <td>0</td>\n",
              "      <td>0</td>\n",
              "      <td>1</td>\n",
              "      <td>0</td>\n",
              "    </tr>\n",
              "  </tbody>\n",
              "</table>\n",
              "</div>"
            ],
            "text/plain": [
              "  mes  qtd_vtr  1 BPM  10 BPM  11 BPM  ...  5 BPM  6 BPM  7 BPM  8 BPM  9 BPM\n",
              "0  01       22      0       0       0  ...      0      0      0      1      0\n",
              "1  02       23      0       0       0  ...      0      0      0      1      0\n",
              "\n",
              "[2 rows x 25 columns]"
            ]
          },
          "metadata": {},
          "execution_count": 231
        }
      ]
    },
    {
      "cell_type": "code",
      "metadata": {
        "colab": {
          "base_uri": "https://localhost:8080/",
          "height": 441
        },
        "id": "o1y44XMMdgxQ",
        "outputId": "55f82a6e-59c2-42de-825f-f0539812e114"
      },
      "source": [
        "X"
      ],
      "execution_count": 232,
      "outputs": [
        {
          "output_type": "execute_result",
          "data": {
            "text/html": [
              "<div>\n",
              "<style scoped>\n",
              "    .dataframe tbody tr th:only-of-type {\n",
              "        vertical-align: middle;\n",
              "    }\n",
              "\n",
              "    .dataframe tbody tr th {\n",
              "        vertical-align: top;\n",
              "    }\n",
              "\n",
              "    .dataframe thead th {\n",
              "        text-align: right;\n",
              "    }\n",
              "</style>\n",
              "<table border=\"1\" class=\"dataframe\">\n",
              "  <thead>\n",
              "    <tr style=\"text-align: right;\">\n",
              "      <th></th>\n",
              "      <th>mes</th>\n",
              "      <th>qtd_vtr</th>\n",
              "      <th>1 BPM</th>\n",
              "      <th>10 BPM</th>\n",
              "      <th>11 BPM</th>\n",
              "      <th>13 BPM</th>\n",
              "      <th>14 BPM</th>\n",
              "      <th>15 BPM</th>\n",
              "      <th>16 BPM</th>\n",
              "      <th>17 BPM</th>\n",
              "      <th>2 BPM</th>\n",
              "      <th>20 BPM</th>\n",
              "      <th>21 BPM</th>\n",
              "      <th>24 BPM</th>\n",
              "      <th>25 BPM</th>\n",
              "      <th>26 BPM</th>\n",
              "      <th>27 BPM</th>\n",
              "      <th>28 BPM</th>\n",
              "      <th>3 BPM</th>\n",
              "      <th>4 BPM</th>\n",
              "      <th>5 BPM</th>\n",
              "      <th>6 BPM</th>\n",
              "      <th>7 BPM</th>\n",
              "      <th>8 BPM</th>\n",
              "      <th>9 BPM</th>\n",
              "    </tr>\n",
              "  </thead>\n",
              "  <tbody>\n",
              "    <tr>\n",
              "      <th>0</th>\n",
              "      <td>01</td>\n",
              "      <td>22</td>\n",
              "      <td>0</td>\n",
              "      <td>0</td>\n",
              "      <td>0</td>\n",
              "      <td>0</td>\n",
              "      <td>0</td>\n",
              "      <td>0</td>\n",
              "      <td>0</td>\n",
              "      <td>0</td>\n",
              "      <td>0</td>\n",
              "      <td>0</td>\n",
              "      <td>0</td>\n",
              "      <td>0</td>\n",
              "      <td>0</td>\n",
              "      <td>0</td>\n",
              "      <td>0</td>\n",
              "      <td>0</td>\n",
              "      <td>0</td>\n",
              "      <td>0</td>\n",
              "      <td>0</td>\n",
              "      <td>0</td>\n",
              "      <td>0</td>\n",
              "      <td>1</td>\n",
              "      <td>0</td>\n",
              "    </tr>\n",
              "    <tr>\n",
              "      <th>1</th>\n",
              "      <td>02</td>\n",
              "      <td>23</td>\n",
              "      <td>0</td>\n",
              "      <td>0</td>\n",
              "      <td>0</td>\n",
              "      <td>0</td>\n",
              "      <td>0</td>\n",
              "      <td>0</td>\n",
              "      <td>0</td>\n",
              "      <td>0</td>\n",
              "      <td>0</td>\n",
              "      <td>0</td>\n",
              "      <td>0</td>\n",
              "      <td>0</td>\n",
              "      <td>0</td>\n",
              "      <td>0</td>\n",
              "      <td>0</td>\n",
              "      <td>0</td>\n",
              "      <td>0</td>\n",
              "      <td>0</td>\n",
              "      <td>0</td>\n",
              "      <td>0</td>\n",
              "      <td>0</td>\n",
              "      <td>1</td>\n",
              "      <td>0</td>\n",
              "    </tr>\n",
              "    <tr>\n",
              "      <th>2</th>\n",
              "      <td>03</td>\n",
              "      <td>21</td>\n",
              "      <td>0</td>\n",
              "      <td>0</td>\n",
              "      <td>0</td>\n",
              "      <td>0</td>\n",
              "      <td>0</td>\n",
              "      <td>0</td>\n",
              "      <td>0</td>\n",
              "      <td>0</td>\n",
              "      <td>0</td>\n",
              "      <td>0</td>\n",
              "      <td>0</td>\n",
              "      <td>0</td>\n",
              "      <td>0</td>\n",
              "      <td>0</td>\n",
              "      <td>0</td>\n",
              "      <td>0</td>\n",
              "      <td>0</td>\n",
              "      <td>0</td>\n",
              "      <td>0</td>\n",
              "      <td>0</td>\n",
              "      <td>0</td>\n",
              "      <td>1</td>\n",
              "      <td>0</td>\n",
              "    </tr>\n",
              "    <tr>\n",
              "      <th>3</th>\n",
              "      <td>04</td>\n",
              "      <td>23</td>\n",
              "      <td>0</td>\n",
              "      <td>0</td>\n",
              "      <td>0</td>\n",
              "      <td>0</td>\n",
              "      <td>0</td>\n",
              "      <td>0</td>\n",
              "      <td>0</td>\n",
              "      <td>0</td>\n",
              "      <td>0</td>\n",
              "      <td>0</td>\n",
              "      <td>0</td>\n",
              "      <td>0</td>\n",
              "      <td>0</td>\n",
              "      <td>0</td>\n",
              "      <td>0</td>\n",
              "      <td>0</td>\n",
              "      <td>0</td>\n",
              "      <td>0</td>\n",
              "      <td>0</td>\n",
              "      <td>0</td>\n",
              "      <td>0</td>\n",
              "      <td>1</td>\n",
              "      <td>0</td>\n",
              "    </tr>\n",
              "    <tr>\n",
              "      <th>4</th>\n",
              "      <td>05</td>\n",
              "      <td>23</td>\n",
              "      <td>0</td>\n",
              "      <td>0</td>\n",
              "      <td>0</td>\n",
              "      <td>0</td>\n",
              "      <td>0</td>\n",
              "      <td>0</td>\n",
              "      <td>0</td>\n",
              "      <td>0</td>\n",
              "      <td>0</td>\n",
              "      <td>0</td>\n",
              "      <td>0</td>\n",
              "      <td>0</td>\n",
              "      <td>0</td>\n",
              "      <td>0</td>\n",
              "      <td>0</td>\n",
              "      <td>0</td>\n",
              "      <td>0</td>\n",
              "      <td>0</td>\n",
              "      <td>0</td>\n",
              "      <td>0</td>\n",
              "      <td>0</td>\n",
              "      <td>1</td>\n",
              "      <td>0</td>\n",
              "    </tr>\n",
              "    <tr>\n",
              "      <th>...</th>\n",
              "      <td>...</td>\n",
              "      <td>...</td>\n",
              "      <td>...</td>\n",
              "      <td>...</td>\n",
              "      <td>...</td>\n",
              "      <td>...</td>\n",
              "      <td>...</td>\n",
              "      <td>...</td>\n",
              "      <td>...</td>\n",
              "      <td>...</td>\n",
              "      <td>...</td>\n",
              "      <td>...</td>\n",
              "      <td>...</td>\n",
              "      <td>...</td>\n",
              "      <td>...</td>\n",
              "      <td>...</td>\n",
              "      <td>...</td>\n",
              "      <td>...</td>\n",
              "      <td>...</td>\n",
              "      <td>...</td>\n",
              "      <td>...</td>\n",
              "      <td>...</td>\n",
              "      <td>...</td>\n",
              "      <td>...</td>\n",
              "      <td>...</td>\n",
              "    </tr>\n",
              "    <tr>\n",
              "      <th>202</th>\n",
              "      <td>05</td>\n",
              "      <td>22</td>\n",
              "      <td>1</td>\n",
              "      <td>0</td>\n",
              "      <td>0</td>\n",
              "      <td>0</td>\n",
              "      <td>0</td>\n",
              "      <td>0</td>\n",
              "      <td>0</td>\n",
              "      <td>0</td>\n",
              "      <td>0</td>\n",
              "      <td>0</td>\n",
              "      <td>0</td>\n",
              "      <td>0</td>\n",
              "      <td>0</td>\n",
              "      <td>0</td>\n",
              "      <td>0</td>\n",
              "      <td>0</td>\n",
              "      <td>0</td>\n",
              "      <td>0</td>\n",
              "      <td>0</td>\n",
              "      <td>0</td>\n",
              "      <td>0</td>\n",
              "      <td>0</td>\n",
              "      <td>0</td>\n",
              "    </tr>\n",
              "    <tr>\n",
              "      <th>203</th>\n",
              "      <td>06</td>\n",
              "      <td>21</td>\n",
              "      <td>1</td>\n",
              "      <td>0</td>\n",
              "      <td>0</td>\n",
              "      <td>0</td>\n",
              "      <td>0</td>\n",
              "      <td>0</td>\n",
              "      <td>0</td>\n",
              "      <td>0</td>\n",
              "      <td>0</td>\n",
              "      <td>0</td>\n",
              "      <td>0</td>\n",
              "      <td>0</td>\n",
              "      <td>0</td>\n",
              "      <td>0</td>\n",
              "      <td>0</td>\n",
              "      <td>0</td>\n",
              "      <td>0</td>\n",
              "      <td>0</td>\n",
              "      <td>0</td>\n",
              "      <td>0</td>\n",
              "      <td>0</td>\n",
              "      <td>0</td>\n",
              "      <td>0</td>\n",
              "    </tr>\n",
              "    <tr>\n",
              "      <th>204</th>\n",
              "      <td>07</td>\n",
              "      <td>22</td>\n",
              "      <td>1</td>\n",
              "      <td>0</td>\n",
              "      <td>0</td>\n",
              "      <td>0</td>\n",
              "      <td>0</td>\n",
              "      <td>0</td>\n",
              "      <td>0</td>\n",
              "      <td>0</td>\n",
              "      <td>0</td>\n",
              "      <td>0</td>\n",
              "      <td>0</td>\n",
              "      <td>0</td>\n",
              "      <td>0</td>\n",
              "      <td>0</td>\n",
              "      <td>0</td>\n",
              "      <td>0</td>\n",
              "      <td>0</td>\n",
              "      <td>0</td>\n",
              "      <td>0</td>\n",
              "      <td>0</td>\n",
              "      <td>0</td>\n",
              "      <td>0</td>\n",
              "      <td>0</td>\n",
              "    </tr>\n",
              "    <tr>\n",
              "      <th>205</th>\n",
              "      <td>08</td>\n",
              "      <td>23</td>\n",
              "      <td>1</td>\n",
              "      <td>0</td>\n",
              "      <td>0</td>\n",
              "      <td>0</td>\n",
              "      <td>0</td>\n",
              "      <td>0</td>\n",
              "      <td>0</td>\n",
              "      <td>0</td>\n",
              "      <td>0</td>\n",
              "      <td>0</td>\n",
              "      <td>0</td>\n",
              "      <td>0</td>\n",
              "      <td>0</td>\n",
              "      <td>0</td>\n",
              "      <td>0</td>\n",
              "      <td>0</td>\n",
              "      <td>0</td>\n",
              "      <td>0</td>\n",
              "      <td>0</td>\n",
              "      <td>0</td>\n",
              "      <td>0</td>\n",
              "      <td>0</td>\n",
              "      <td>0</td>\n",
              "    </tr>\n",
              "    <tr>\n",
              "      <th>206</th>\n",
              "      <td>09</td>\n",
              "      <td>24</td>\n",
              "      <td>1</td>\n",
              "      <td>0</td>\n",
              "      <td>0</td>\n",
              "      <td>0</td>\n",
              "      <td>0</td>\n",
              "      <td>0</td>\n",
              "      <td>0</td>\n",
              "      <td>0</td>\n",
              "      <td>0</td>\n",
              "      <td>0</td>\n",
              "      <td>0</td>\n",
              "      <td>0</td>\n",
              "      <td>0</td>\n",
              "      <td>0</td>\n",
              "      <td>0</td>\n",
              "      <td>0</td>\n",
              "      <td>0</td>\n",
              "      <td>0</td>\n",
              "      <td>0</td>\n",
              "      <td>0</td>\n",
              "      <td>0</td>\n",
              "      <td>0</td>\n",
              "      <td>0</td>\n",
              "    </tr>\n",
              "  </tbody>\n",
              "</table>\n",
              "<p>207 rows × 25 columns</p>\n",
              "</div>"
            ],
            "text/plain": [
              "    mes  qtd_vtr  1 BPM  10 BPM  11 BPM  ...  5 BPM  6 BPM  7 BPM  8 BPM  9 BPM\n",
              "0    01       22      0       0       0  ...      0      0      0      1      0\n",
              "1    02       23      0       0       0  ...      0      0      0      1      0\n",
              "2    03       21      0       0       0  ...      0      0      0      1      0\n",
              "3    04       23      0       0       0  ...      0      0      0      1      0\n",
              "4    05       23      0       0       0  ...      0      0      0      1      0\n",
              "..   ..      ...    ...     ...     ...  ...    ...    ...    ...    ...    ...\n",
              "202  05       22      1       0       0  ...      0      0      0      0      0\n",
              "203  06       21      1       0       0  ...      0      0      0      0      0\n",
              "204  07       22      1       0       0  ...      0      0      0      0      0\n",
              "205  08       23      1       0       0  ...      0      0      0      0      0\n",
              "206  09       24      1       0       0  ...      0      0      0      0      0\n",
              "\n",
              "[207 rows x 25 columns]"
            ]
          },
          "metadata": {},
          "execution_count": 232
        }
      ]
    },
    {
      "cell_type": "code",
      "metadata": {
        "colab": {
          "base_uri": "https://localhost:8080/"
        },
        "id": "-aPyAkJUdzJX",
        "outputId": "699d29b6-9fbe-4000-852e-d0f84670b160"
      },
      "source": [
        "y"
      ],
      "execution_count": 233,
      "outputs": [
        {
          "output_type": "execute_result",
          "data": {
            "text/plain": [
              "0      812\n",
              "1      740\n",
              "2      688\n",
              "3      759\n",
              "4      719\n",
              "      ... \n",
              "202    422\n",
              "203    349\n",
              "204    482\n",
              "205    507\n",
              "206    482\n",
              "Name: ocorrencias, Length: 207, dtype: int64"
            ]
          },
          "metadata": {},
          "execution_count": 233
        }
      ]
    },
    {
      "cell_type": "code",
      "metadata": {
        "id": "1I-D3Ekfd0kh"
      },
      "source": [
        "from sklearn.model_selection import train_test_split"
      ],
      "execution_count": 234,
      "outputs": []
    },
    {
      "cell_type": "code",
      "metadata": {
        "id": "bJKWJgYFeGz9"
      },
      "source": [
        "X_train, X_test, y_train, y_test = train_test_split(X, y, random_state=1, train_size=.8)"
      ],
      "execution_count": 246,
      "outputs": []
    },
    {
      "cell_type": "code",
      "metadata": {
        "colab": {
          "base_uri": "https://localhost:8080/"
        },
        "id": "jRwjq0eXeSPi",
        "outputId": "53dc984c-c7a3-4fa8-9d57-ada0d77f3437"
      },
      "source": [
        "X_train.shape"
      ],
      "execution_count": 247,
      "outputs": [
        {
          "output_type": "execute_result",
          "data": {
            "text/plain": [
              "(165, 25)"
            ]
          },
          "metadata": {},
          "execution_count": 247
        }
      ]
    },
    {
      "cell_type": "code",
      "metadata": {
        "colab": {
          "base_uri": "https://localhost:8080/"
        },
        "id": "nZL-JUAmeduH",
        "outputId": "d5469dc1-d7e3-4bf0-8d9f-f4754657aa51"
      },
      "source": [
        "y_train.shape"
      ],
      "execution_count": 248,
      "outputs": [
        {
          "output_type": "execute_result",
          "data": {
            "text/plain": [
              "(165,)"
            ]
          },
          "metadata": {},
          "execution_count": 248
        }
      ]
    },
    {
      "cell_type": "code",
      "metadata": {
        "colab": {
          "base_uri": "https://localhost:8080/"
        },
        "id": "dXIqR9XxehoK",
        "outputId": "27c93574-bed8-428e-a2b6-c17afa266221"
      },
      "source": [
        "X_test.shape"
      ],
      "execution_count": 249,
      "outputs": [
        {
          "output_type": "execute_result",
          "data": {
            "text/plain": [
              "(42, 25)"
            ]
          },
          "metadata": {},
          "execution_count": 249
        }
      ]
    },
    {
      "cell_type": "code",
      "metadata": {
        "colab": {
          "base_uri": "https://localhost:8080/"
        },
        "id": "JolYGdsJek-G",
        "outputId": "62f41c52-16a6-443d-bc50-2f543c2790a9"
      },
      "source": [
        "y_test.shape"
      ],
      "execution_count": 250,
      "outputs": [
        {
          "output_type": "execute_result",
          "data": {
            "text/plain": [
              "(42,)"
            ]
          },
          "metadata": {},
          "execution_count": 250
        }
      ]
    },
    {
      "cell_type": "code",
      "metadata": {
        "id": "50gUAsfBenkP"
      },
      "source": [
        "from sklearn.ensemble import RandomForestRegressor\n",
        "from sklearn.ensemble import RandomForestClassifier"
      ],
      "execution_count": 321,
      "outputs": []
    },
    {
      "cell_type": "markdown",
      "metadata": {
        "id": "j2azDOT7iKJP"
      },
      "source": [
        "### Random Forest"
      ]
    },
    {
      "cell_type": "code",
      "metadata": {
        "id": "8hzJ-7pNe77v"
      },
      "source": [
        "modeloRF = RandomForestClassifier(random_state=1,  n_estimators=250)"
      ],
      "execution_count": 322,
      "outputs": []
    },
    {
      "cell_type": "code",
      "metadata": {
        "colab": {
          "base_uri": "https://localhost:8080/"
        },
        "id": "5_UEF6gKfBdu",
        "outputId": "78a2ab13-7ae6-4eb0-df98-abcd35a5cf00"
      },
      "source": [
        "modeloRF.fit(X_train, y_train)"
      ],
      "execution_count": 323,
      "outputs": [
        {
          "output_type": "execute_result",
          "data": {
            "text/plain": [
              "RandomForestClassifier(n_estimators=250, random_state=1)"
            ]
          },
          "metadata": {},
          "execution_count": 323
        }
      ]
    },
    {
      "cell_type": "code",
      "metadata": {
        "id": "_ovFA7HrfIV9"
      },
      "source": [
        "previsaoRF = modeloRF.predict(X_test)"
      ],
      "execution_count": 324,
      "outputs": []
    },
    {
      "cell_type": "code",
      "metadata": {
        "colab": {
          "base_uri": "https://localhost:8080/"
        },
        "id": "CeQ9xOV4fV0A",
        "outputId": "9ffccbad-50c5-4901-de9d-464beafd3610"
      },
      "source": [
        "mean_absolute_error(y_test, previsaoRF)"
      ],
      "execution_count": 325,
      "outputs": [
        {
          "output_type": "execute_result",
          "data": {
            "text/plain": [
              "54.26190476190476"
            ]
          },
          "metadata": {},
          "execution_count": 325
        }
      ]
    },
    {
      "cell_type": "markdown",
      "metadata": {
        "id": "Sg1S8xGyiPdD"
      },
      "source": [
        "### Linear Regression"
      ]
    },
    {
      "cell_type": "code",
      "metadata": {
        "id": "gsMEo320hB8d"
      },
      "source": [
        "from sklearn.linear_model import LinearRegression"
      ],
      "execution_count": 311,
      "outputs": []
    },
    {
      "cell_type": "code",
      "metadata": {
        "id": "0tpcBy3lg_Zs"
      },
      "source": [
        "modeloLR = LinearRegression()"
      ],
      "execution_count": 312,
      "outputs": []
    },
    {
      "cell_type": "code",
      "metadata": {
        "colab": {
          "base_uri": "https://localhost:8080/"
        },
        "id": "pTAT4QlPhlDg",
        "outputId": "b9d96ada-f7bc-4582-d7b4-f18ee0b34dba"
      },
      "source": [
        "modeloLR.fit(X_train, y_train)"
      ],
      "execution_count": 316,
      "outputs": [
        {
          "output_type": "execute_result",
          "data": {
            "text/plain": [
              "LinearRegression()"
            ]
          },
          "metadata": {},
          "execution_count": 316
        }
      ]
    },
    {
      "cell_type": "code",
      "metadata": {
        "id": "yvhWDMUThq0p"
      },
      "source": [
        "previsaoLF = modeloLR.predict(X_test)"
      ],
      "execution_count": 314,
      "outputs": []
    },
    {
      "cell_type": "code",
      "metadata": {
        "colab": {
          "base_uri": "https://localhost:8080/"
        },
        "id": "8vYaK6w8hxr6",
        "outputId": "a854bfe1-2170-47d3-f4cd-791eb13649a8"
      },
      "source": [
        "mean_absolute_error(y_test, previsaoLF)"
      ],
      "execution_count": 315,
      "outputs": [
        {
          "output_type": "execute_result",
          "data": {
            "text/plain": [
              "51.47880041387886"
            ]
          },
          "metadata": {},
          "execution_count": 315
        }
      ]
    },
    {
      "cell_type": "code",
      "metadata": {
        "id": "hKJapUMMfP35"
      },
      "source": [
        "from sklearn.metrics import mean_absolute_error"
      ],
      "execution_count": 260,
      "outputs": []
    },
    {
      "cell_type": "code",
      "metadata": {
        "id": "qiSGIj_igAKF"
      },
      "source": [
        "from sklearn.metrics import confusion_matrix"
      ],
      "execution_count": 265,
      "outputs": []
    },
    {
      "cell_type": "code",
      "metadata": {
        "colab": {
          "base_uri": "https://localhost:8080/"
        },
        "id": "6KvlNj8bjK5h",
        "outputId": "a3dcfad7-2362-4bc9-8183-5f2342ed84bf"
      },
      "source": [
        "X.columns"
      ],
      "execution_count": 319,
      "outputs": [
        {
          "output_type": "execute_result",
          "data": {
            "text/plain": [
              "Index(['mes', 'qtd_vtr', '1 BPM', '10 BPM', '11 BPM', '13 BPM', '14 BPM',\n",
              "       '15 BPM', '16 BPM', '17 BPM', '2 BPM', '20 BPM', '21 BPM', '24 BPM',\n",
              "       '25 BPM', '26 BPM', '27 BPM', '28 BPM', '3 BPM', '4 BPM', '5 BPM',\n",
              "       '6 BPM', '7 BPM', '8 BPM', '9 BPM'],\n",
              "      dtype='object')"
            ]
          },
          "metadata": {},
          "execution_count": 319
        }
      ]
    },
    {
      "cell_type": "code",
      "metadata": {
        "colab": {
          "base_uri": "https://localhost:8080/"
        },
        "id": "WfnL10eMgzUI",
        "outputId": "de392fe4-1c49-49c0-b01d-46988b78cf2c"
      },
      "source": [
        "confusion_matrix(y_test, previsaoRF)"
      ],
      "execution_count": 326,
      "outputs": [
        {
          "output_type": "execute_result",
          "data": {
            "text/plain": [
              "array([[0, 0, 0, ..., 0, 0, 0],\n",
              "       [1, 0, 0, ..., 0, 0, 0],\n",
              "       [0, 0, 0, ..., 0, 0, 0],\n",
              "       ...,\n",
              "       [0, 0, 0, ..., 0, 0, 0],\n",
              "       [0, 0, 0, ..., 0, 0, 0],\n",
              "       [0, 0, 0, ..., 0, 0, 0]])"
            ]
          },
          "metadata": {},
          "execution_count": 326
        }
      ]
    },
    {
      "cell_type": "code",
      "metadata": {
        "id": "9v_P-Tqyi_Fl"
      },
      "source": [
        "from sklearn.metrics import plot_confusion_matrix"
      ],
      "execution_count": 327,
      "outputs": []
    },
    {
      "cell_type": "code",
      "metadata": {
        "colab": {
          "base_uri": "https://localhost:8080/",
          "height": 390
        },
        "id": "tUgOmquGjxJX",
        "outputId": "b143eca8-a828-41db-9b0c-60c26dc1fc0b"
      },
      "source": [
        "plot_confusion_matrix(modeloRF, X_test, y_test)"
      ],
      "execution_count": 329,
      "outputs": [
        {
          "output_type": "stream",
          "name": "stderr",
          "text": [
            "/usr/local/lib/python3.7/dist-packages/sklearn/utils/deprecation.py:87: FutureWarning:\n",
            "\n",
            "Function plot_confusion_matrix is deprecated; Function `plot_confusion_matrix` is deprecated in 1.0 and will be removed in 1.2. Use one of the class methods: ConfusionMatrixDisplay.from_predictions or ConfusionMatrixDisplay.from_estimator.\n",
            "\n"
          ]
        },
        {
          "output_type": "execute_result",
          "data": {
            "text/plain": [
              "<sklearn.metrics._plot.confusion_matrix.ConfusionMatrixDisplay at 0x7fc4d0431210>"
            ]
          },
          "metadata": {},
          "execution_count": 329
        },
        {
          "output_type": "display_data",
          "data": {
            "image/png": "[encoded data removed]",
            "text/plain": [
              "<Figure size 432x288 with 2 Axes>"
            ]
          },
          "metadata": {
            "needs_background": "light"
          }
        }
      ]
    },
    {
      "cell_type": "code",
      "metadata": {
        "id": "UH-Ga6sGj6cd"
      },
      "source": [
        ""
      ],
      "execution_count": null,
      "outputs": []
    }
  ]
}